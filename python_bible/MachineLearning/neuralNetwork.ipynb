{
 "cells": [
  {
   "cell_type": "code",
   "execution_count": 1,
   "id": "a8a1192c",
   "metadata": {},
   "outputs": [],
   "source": [
    "import numpy as np\n",
    "\n",
    "import tensorflow as tf\n",
    "import matplotlib.pyplot as plt\n",
    "\n",
    "import cv2 as cv\n",
    "\n",
    "import pickle\n",
    "import os"
   ]
  },
  {
   "cell_type": "code",
   "execution_count": 2,
   "id": "df770f55",
   "metadata": {},
   "outputs": [],
   "source": [
    "mnist = tf.keras.datasets.mnist\n",
    "(X_train, Y_train), (X_test, Y_test) = mnist.load_data()"
   ]
  },
  {
   "cell_type": "code",
   "execution_count": 3,
   "id": "c8194861",
   "metadata": {},
   "outputs": [
    {
     "data": {
      "text/plain": [
       "((60000, 28, 28), (60000,), (10000, 28, 28), (10000,))"
      ]
     },
     "execution_count": 3,
     "metadata": {},
     "output_type": "execute_result"
    }
   ],
   "source": [
    "X_train.shape, Y_train.shape, X_test.shape, Y_test.shape"
   ]
  },
  {
   "cell_type": "code",
   "execution_count": 4,
   "id": "cc64d2d1",
   "metadata": {},
   "outputs": [],
   "source": [
    "# normalize our data to make it easier to handle\n",
    "X_train = tf.keras.utils.normalize(X_train)\n",
    "X_test = tf.keras.utils.normalize(X_test)"
   ]
  },
  {
   "cell_type": "code",
   "execution_count": 5,
   "id": "2571965b",
   "metadata": {},
   "outputs": [
    {
     "data": {
      "text/plain": [
       "array([[[0., 0., 0., ..., 0., 0., 0.],\n",
       "        [0., 0., 0., ..., 0., 0., 0.],\n",
       "        [0., 0., 0., ..., 0., 0., 0.],\n",
       "        ...,\n",
       "        [0., 0., 0., ..., 0., 0., 0.],\n",
       "        [0., 0., 0., ..., 0., 0., 0.],\n",
       "        [0., 0., 0., ..., 0., 0., 0.]],\n",
       "\n",
       "       [[0., 0., 0., ..., 0., 0., 0.],\n",
       "        [0., 0., 0., ..., 0., 0., 0.],\n",
       "        [0., 0., 0., ..., 0., 0., 0.],\n",
       "        ...,\n",
       "        [0., 0., 0., ..., 0., 0., 0.],\n",
       "        [0., 0., 0., ..., 0., 0., 0.],\n",
       "        [0., 0., 0., ..., 0., 0., 0.]],\n",
       "\n",
       "       [[0., 0., 0., ..., 0., 0., 0.],\n",
       "        [0., 0., 0., ..., 0., 0., 0.],\n",
       "        [0., 0., 0., ..., 0., 0., 0.],\n",
       "        ...,\n",
       "        [0., 0., 0., ..., 0., 0., 0.],\n",
       "        [0., 0., 0., ..., 0., 0., 0.],\n",
       "        [0., 0., 0., ..., 0., 0., 0.]],\n",
       "\n",
       "       ...,\n",
       "\n",
       "       [[0., 0., 0., ..., 0., 0., 0.],\n",
       "        [0., 0., 0., ..., 0., 0., 0.],\n",
       "        [0., 0., 0., ..., 0., 0., 0.],\n",
       "        ...,\n",
       "        [0., 0., 0., ..., 0., 0., 0.],\n",
       "        [0., 0., 0., ..., 0., 0., 0.],\n",
       "        [0., 0., 0., ..., 0., 0., 0.]],\n",
       "\n",
       "       [[0., 0., 0., ..., 0., 0., 0.],\n",
       "        [0., 0., 0., ..., 0., 0., 0.],\n",
       "        [0., 0., 0., ..., 0., 0., 0.],\n",
       "        ...,\n",
       "        [0., 0., 0., ..., 0., 0., 0.],\n",
       "        [0., 0., 0., ..., 0., 0., 0.],\n",
       "        [0., 0., 0., ..., 0., 0., 0.]],\n",
       "\n",
       "       [[0., 0., 0., ..., 0., 0., 0.],\n",
       "        [0., 0., 0., ..., 0., 0., 0.],\n",
       "        [0., 0., 0., ..., 0., 0., 0.],\n",
       "        ...,\n",
       "        [0., 0., 0., ..., 0., 0., 0.],\n",
       "        [0., 0., 0., ..., 0., 0., 0.],\n",
       "        [0., 0., 0., ..., 0., 0., 0.]]])"
      ]
     },
     "execution_count": 5,
     "metadata": {},
     "output_type": "execute_result"
    }
   ],
   "source": [
    "X_train"
   ]
  },
  {
   "cell_type": "code",
   "execution_count": 6,
   "id": "ee3d6a48",
   "metadata": {},
   "outputs": [],
   "source": [
    "model = tf.keras.models.Sequential()\n",
    "model.add(tf.keras.layers.Flatten( input_shape =( 28 , 28 )))\n",
    "model.add(tf.keras.layers.Dense( units = 128 , activation = 'relu' ))\n",
    "model.add(tf.keras.layers.Dense( units = 128 , activation = 'relu' ))\n",
    "model.add(tf.keras.layers.Dense( units = 10 , activation =tf.nn.softmax))\n",
    "model.compile( optimizer = 'adam' ,loss = 'sparse_categorical_crossentropy' , metrics =[ 'accuracy' ])"
   ]
  },
  {
   "cell_type": "code",
   "execution_count": 7,
   "id": "571c24a8",
   "metadata": {},
   "outputs": [
    {
     "name": "stdout",
     "output_type": "stream",
     "text": [
      "Model: \"sequential\"\n",
      "_________________________________________________________________\n",
      "Layer (type)                 Output Shape              Param #   \n",
      "=================================================================\n",
      "flatten (Flatten)            (None, 784)               0         \n",
      "_________________________________________________________________\n",
      "dense (Dense)                (None, 128)               100480    \n",
      "_________________________________________________________________\n",
      "dense_1 (Dense)              (None, 128)               16512     \n",
      "_________________________________________________________________\n",
      "dense_2 (Dense)              (None, 10)                1290      \n",
      "=================================================================\n",
      "Total params: 118,282\n",
      "Trainable params: 118,282\n",
      "Non-trainable params: 0\n",
      "_________________________________________________________________\n"
     ]
    }
   ],
   "source": [
    "model.summary()"
   ]
  },
  {
   "cell_type": "code",
   "execution_count": 8,
   "id": "b7cbab4b",
   "metadata": {},
   "outputs": [
    {
     "name": "stdout",
     "output_type": "stream",
     "text": [
      "Train on 60000 samples\n",
      "Epoch 1/3\n",
      "29760/60000 [=============>................] - ETA: 17:25 - loss: 2.3310 - accuracy: 0.031 - ETA: 1:20 - loss: 2.1429 - accuracy: 0.401 - ETA: 36s - loss: 1.7967 - accuracy: 0.5473 - ETA: 26s - loss: 1.5109 - accuracy: 0.612 - ETA: 19s - loss: 1.2941 - accuracy: 0.649 - ETA: 16s - loss: 1.1508 - accuracy: 0.685 - ETA: 14s - loss: 1.0314 - accuracy: 0.716 - ETA: 13s - loss: 0.9596 - accuracy: 0.733 - ETA: 12s - loss: 0.8963 - accuracy: 0.749 - ETA: 11s - loss: 0.8465 - accuracy: 0.763 - ETA: 10s - loss: 0.7964 - accuracy: 0.775 - ETA: 9s - loss: 0.7637 - accuracy: 0.784 - ETA: 9s - loss: 0.7243 - accuracy: 0.79 - ETA: 8s - loss: 0.6955 - accuracy: 0.80 - ETA: 8s - loss: 0.6721 - accuracy: 0.80 - ETA: 7s - loss: 0.6498 - accuracy: 0.81 - ETA: 7s - loss: 0.6297 - accuracy: 0.82 - ETA: 7s - loss: 0.6093 - accuracy: 0.82 - ETA: 7s - loss: 0.5968 - accuracy: 0.83 - ETA: 7s - loss: 0.5832 - accuracy: 0.83 - ETA: 6s - loss: 0.5700 - accuracy: 0.83 - ETA: 6s - loss: 0.5587 - accuracy: 0.83 - ETA: 6s - loss: 0.5506 - accuracy: 0.84 - ETA: 6s - loss: 0.5409 - accuracy: 0.84 - ETA: 6s - loss: 0.5288 - accuracy: 0.84 - ETA: 6s - loss: 0.5181 - accuracy: 0.85 - ETA: 6s - loss: 0.5098 - accuracy: 0.85 - ETA: 6s - loss: 0.4998 - accuracy: 0.85 - ETA: 5s - loss: 0.4898 - accuracy: 0.85 - ETA: 5s - loss: 0.4826 - accuracy: 0.86 - ETA: 5s - loss: 0.4749 - accuracy: 0.86 - ETA: 5s - loss: 0.4685 - accuracy: 0.86 - ETA: 5s - loss: 0.4625 - accuracy: 0.86 - ETA: 5s - loss: 0.4566 - accuracy: 0.86 - ETA: 5s - loss: 0.4498 - accuracy: 0.86 - ETA: 5s - loss: 0.4435 - accuracy: 0.87 - ETA: 4s - loss: 0.4389 - accuracy: 0.87 - ETA: 4s - loss: 0.4342 - accuracy: 0.87 - ETA: 4s - loss: 0.4304 - accuracy: 0.87 - ETA: 4s - loss: 0.4280 - accuracy: 0.87 - ETA: 4s - loss: 0.4240 - accuracy: 0.87 - ETA: 4s - loss: 0.4177 - accuracy: 0.87 - ETA: 4s - loss: 0.4138 - accuracy: 0.87 - ETA: 4s - loss: 0.4086 - accuracy: 0.88 - ETA: 4s - loss: 0.4049 - accuracy: 0.88 - ETA: 4s - loss: 0.3996 - accuracy: 0.88 - ETA: 4s - loss: 0.3940 - accuracy: 0.88 - ETA: 4s - loss: 0.3882 - accuracy: 0.88 - ETA: 4s - loss: 0.3837 - accuracy: 0.88 - ETA: 4s - loss: 0.3813 - accuracy: 0.88 - ETA: 3s - loss: 0.3773 - accuracy: 0.88 - ETA: 3s - loss: 0.3727 - accuracy: 0.89 - ETA: 3s - loss: 0.3698 - accuracy: 0.89 - ETA: 3s - loss: 0.3659 - accuracy: 0.89 - ETA: 3s - loss: 0.3621 - accuracy: 0.89 - ETA: 3s - loss: 0.3592 - accuracy: 0.89"
     ]
    },
    {
     "data": {
      "text/html": [
       "<b>limit_output extension: Maximum message size of 10000 exceeded with 10021 characters</b>"
      ]
     },
     "metadata": {},
     "output_type": "display_data"
    }
   ],
   "source": [
    "model.fit(X_train, Y_train, epochs = 3 )"
   ]
  },
  {
   "cell_type": "code",
   "execution_count": null,
   "id": "8340f71c",
   "metadata": {},
   "outputs": [],
   "source": []
  },
  {
   "cell_type": "code",
   "execution_count": 11,
   "id": "1092136b",
   "metadata": {},
   "outputs": [
    {
     "name": "stdout",
     "output_type": "stream",
     "text": [
      "10000/10000 [==============================] - ETA: 41s - loss: 0.1057 - accuracy: 0.968 - ETA: 2s - loss: 0.1067 - accuracy: 0.967 - ETA: 1s - loss: 0.1325 - accuracy: 0.95 - ETA: 0s - loss: 0.1401 - accuracy: 0.95 - ETA: 0s - loss: 0.1326 - accuracy: 0.95 - ETA: 0s - loss: 0.1264 - accuracy: 0.95 - ETA: 0s - loss: 0.1180 - accuracy: 0.96 - ETA: 0s - loss: 0.1076 - accuracy: 0.96 - ETA: 0s - loss: 0.0985 - accuracy: 0.96 - 1s 59us/sample - loss: 0.0986 - accuracy: 0.9694\n"
     ]
    }
   ],
   "source": [
    "loss, accuracy = model.evaluate(X_test, Y_test)"
   ]
  },
  {
   "cell_type": "code",
   "execution_count": 12,
   "id": "76ef3bbb",
   "metadata": {},
   "outputs": [
    {
     "name": "stdout",
     "output_type": "stream",
     "text": [
      "Loss:  0.09859699578620493\n",
      "Accuracy:  0.9694\n"
     ]
    }
   ],
   "source": [
    "print ( 'Loss: ' , loss)\n",
    "print ( 'Accuracy: ' , accuracy)"
   ]
  },
  {
   "cell_type": "code",
   "execution_count": null,
   "id": "f30ae1ba",
   "metadata": {},
   "outputs": [],
   "source": []
  },
  {
   "cell_type": "code",
   "execution_count": null,
   "id": "e5e342ac",
   "metadata": {},
   "outputs": [],
   "source": []
  },
  {
   "cell_type": "code",
   "execution_count": 13,
   "id": "8ff352e9",
   "metadata": {},
   "outputs": [],
   "source": [
    "image = cv.imread(\"image/digit1.png\")[:,:,0]\n",
    "image = np.invert(np.array([image]))\n"
   ]
  },
  {
   "cell_type": "code",
   "execution_count": 14,
   "id": "6813b9ba",
   "metadata": {},
   "outputs": [
    {
     "name": "stdout",
     "output_type": "stream",
     "text": [
      "Prediction: 6\n"
     ]
    }
   ],
   "source": [
    "prediction = model.predict(image)\n",
    "print ( \"Prediction: {}\" .format(np.argmax(prediction)))"
   ]
  },
  {
   "cell_type": "code",
   "execution_count": 15,
   "id": "d3fbd05d",
   "metadata": {},
   "outputs": [
    {
     "data": {
      "image/png": "[encoded data removed]",
      "text/plain": [
       "<Figure size 432x288 with 1 Axes>"
      ]
     },
     "metadata": {
      "needs_background": "light"
     },
     "output_type": "display_data"
    }
   ],
   "source": [
    "plt.imshow(image[0])\n",
    "plt.title(\"Scanned Image (Input)\")\n",
    "plt.show()"
   ]
  },
  {
   "cell_type": "code",
   "execution_count": null,
   "id": "ea3c2041",
   "metadata": {},
   "outputs": [],
   "source": [
    "()"
   ]
  }
 ],
 "metadata": {
  "kernelspec": {
   "display_name": "Python 3",
   "language": "python",
   "name": "python3"
  },
  "language_info": {
   "codemirror_mode": {
    "name": "ipython",
    "version": 3
   },
   "file_extension": ".py",
   "mimetype": "text/x-python",
   "name": "python",
   "nbconvert_exporter": "python",
   "pygments_lexer": "ipython3",
   "version": "3.7.10"
  }
 },
 "nbformat": 4,
 "nbformat_minor": 5
}

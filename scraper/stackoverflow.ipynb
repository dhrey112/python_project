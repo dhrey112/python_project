{
 "cells": [
  {
   "cell_type": "code",
   "execution_count": 9,
   "metadata": {},
   "outputs": [],
   "source": [
    "import time\n",
    "import pandas as  pd\n",
    "import requests\n",
    "# from requests_html import HTML"
   ]
  },
  {
   "cell_type": "code",
   "execution_count": 10,
   "metadata": {},
   "outputs": [
    {
     "name": "stdout",
     "output_type": "stream",
     "text": [
      "Collecting requests-html\n",
      "  Downloading requests_html-0.10.0-py3-none-any.whl (13 kB)\n",
      "Collecting html\n",
      "  Downloading html-1.16.tar.gz (7.6 kB)\n"
     ]
    },
    {
     "name": "stderr",
     "output_type": "stream",
     "text": [
      "  WARNING: Retrying (Retry(total=4, connect=None, read=None, redirect=None, status=None)) after connection broken by 'ReadTimeoutError(\"HTTPSConnectionPool(host='files.pythonhosted.org', port=443): Read timed out. (read timeout=15)\")': /packages/24/bc/a4380f09bab3a776182578ce6b2771e57259d0d4dbce178205779abdc347/requests_html-0.10.0-py3-none-any.whl\n",
      "    ERROR: Command errored out with exit status 1:\n",
      "     command: 'C:\\Users\\DHREY\\anaconda3\\python.exe' -c 'import sys, setuptools, tokenize; sys.argv[0] = '\"'\"'C:\\\\Users\\\\DHREY\\\\AppData\\\\Local\\\\Temp\\\\pip-install-4z_c4g60\\\\html\\\\setup.py'\"'\"'; __file__='\"'\"'C:\\\\Users\\\\DHREY\\\\AppData\\\\Local\\\\Temp\\\\pip-install-4z_c4g60\\\\html\\\\setup.py'\"'\"';f=getattr(tokenize, '\"'\"'open'\"'\"', open)(__file__);code=f.read().replace('\"'\"'\\r\\n'\"'\"', '\"'\"'\\n'\"'\"');f.close();exec(compile(code, __file__, '\"'\"'exec'\"'\"'))' egg_info --egg-base 'C:\\Users\\DHREY\\AppData\\Local\\Temp\\pip-pip-egg-info-t9q7ewgu'\n",
      "         cwd: C:\\Users\\DHREY\\AppData\\Local\\Temp\\pip-install-4z_c4g60\\html\\\n",
      "    Complete output (5 lines):\n",
      "    Traceback (most recent call last):\n",
      "      File \"<string>\", line 1, in <module>\n",
      "      File \"C:\\Users\\DHREY\\AppData\\Local\\Temp\\pip-install-4z_c4g60\\html\\setup.py\", line 12, in <module>\n",
      "        long_description = __doc__.decode('utf8'),\n",
      "    AttributeError: 'str' object has no attribute 'decode'\n",
      "    ----------------------------------------\n",
      "ERROR: Command errored out with exit status 1: python setup.py egg_info Check the logs for full command output.\n"
     ]
    }
   ],
   "source": [
    "! pip3 install requests-html html"
   ]
  },
  {
   "cell_type": "code",
   "execution_count": 4,
   "metadata": {
    "pycharm": {
     "name": "#%%\n"
    }
   },
   "outputs": [
    {
     "data": {
      "text/plain": [
       "'https://stackoverflow.com/questions/taggedpython?tab=Votes'"
      ]
     },
     "execution_count": 4,
     "metadata": {},
     "output_type": "execute_result"
    }
   ],
   "source": [
    "base_url = 'https://stackoverflow.com/questions/tagged/'\n",
    "tag = 'python'\n",
    "query_filter = 'Votes'\n",
    "url = f\"{base_url}{tag}?tab={query_filter}\"\n",
    "url"
   ]
  },
  {
   "cell_type": "code",
   "execution_count": 7,
   "metadata": {
    "pycharm": {
     "name": "#%%\n"
    }
   },
   "outputs": [
    {
     "data": {
      "text/plain": [
       "'<!DOCTYPE html>\\r\\n\\r\\n\\r\\n    <html class=\"html__responsive\">\\r\\n\\r\\n    <head>\\r\\n\\r\\n        <title>Page not found - Stack Overflow</title>\\r\\n        <link rel=\"shortcut icon\" href=\"https://cdn.sstatic.net/Sites/stackoverflow/Img/favicon.ico?v=ec617d715196\">\\r\\n        <link rel=\"apple-touch-icon\" href=\"https://cdn.sstatic.net/Sites/stackoverflow/Img/apple-touch-icon.png?v=c78bd457575a\">\\r\\n        <link rel=\"image_src\" href=\"https://cdn.sstatic.net/Sites/stackoverflow/Img/apple-touch-icon.png?v=c78bd457575a\"> \\r\\n        <link rel=\"search\" type=\"application/opensearchdescription+xml\" title=\"Stack Overflow\" href=\"/opensearch.xml\">\\r\\n        <meta name=\"viewport\" content=\"width=device-width, height=device-height, initial-scale=1.0, minimum-scale=1.0\">\\r\\n        <meta property=\"og:type\" content= \"website\" />\\r\\n        <meta property=\"og:url\" content=\"https://stackoverflow.com/questions/taggedpython?tab=Votes\"/>\\r\\n        <meta property=\"og:site_name\" content=\"Stack Overflow\" />\\r\\n        <meta property=\"og:image\" itemprop=\"image primaryImageOfPage\" content=\"https://cdn.sstatic.net/Sites/stackoverflow/Img/apple-touch-icon@2.png?v=73d79a89bded\" />\\r\\n        <meta name=\"twitter:card\" content=\"summary\"/>\\r\\n        <meta name=\"twitter:domain\" content=\"stackoverflow.com\"/>\\r\\n        <meta name=\"twitter:title\" property=\"og:title\" itemprop=\"name\" content=\"Page not found\" />\\r\\n        <meta name=\"twitter:description\" property=\"og:description\" itemprop=\"description\" content=\"Stack Overflow | The World&#x2019;s Largest Online Community for Developers\" />\\r\\n\\r\\n        <script src=\"https://ajax.googleapis.com/ajax/libs/jquery/1.12.4/jquery.min.js\"></script>\\r\\n        <script src=\"https://cdn.sstatic.net/Js/stub.en.js?v=cf98110825be\"></script>\\r\\n    \\r\\n        <link rel=\"stylesheet\" type=\"text/css\" href=\"https://cdn.sstatic.net/Shared/stacks.css?v=f0ad20c3c35c\">\\r\\n        <link rel=\"stylesheet\" type=\"text/css\" href=\"https://cdn.sstatic.net/Sites/stackoverflow/primary.css?v=57cf73133abb\">\\r\\n        <link rel=\"stylesheet\" type=\"text/css\" href=\"https://cdn.sstatic.net/Sites/stackoverflow/secondary.css?v=35a018e77364\">\\r\\n\\r\\n    \\r\\n        \\r\\n        \\r\\n        \\r\\n        <link rel=\"stylesheet\" type=\"text/css\" href=\"https://cdn.sstatic.net/Shared/Channels/channels.css?v=a4fa343ab089\">\\r\\n        \\r\\n        \\r\\n        \\r\\n\\r\\n\\r\\n    <script>\\r\\n        StackExchange.init({\"locale\":\"en\",\"serverTime\":1616503676,\"routeName\":\"Home/HandleUnknownAction\",\"stackAuthUrl\":\"https://stackauth.com\",\"networkMetaHostname\":\"meta.stackexchange.com\",\"site\":{\"name\":\"Stack Overflow\",\"description\":\"Q&A for professional and enthusiast programmers\",\"isNoticesTabEnabled\":true,\"enableNewTagCreationWarning\":true,\"insertSpaceAfterNameTabCompletion\":false,\"id\":1,\"cookieDomain\":\".stackoverflow.com\",\"childUrl\":\"https://meta.stackoverflow.com\",\"styleCodeWithHighlightjs\":true,\"negativeVoteScoreFloor\":null,\"enableSocialMediaInSharePopup\":true,\"protocol\":\"https\"},\"user\":{\"fkey\":\"534d283bc4a6c75b816f2b3948c47ba9bc675ea69313e7a3761bf0762944296b\",\"tid\":\"8e6cc86b-4e7e-85ed-f5ec-f89d3ebc38ab\",\"rep\":0,\"isAnonymous\":true,\"isAnonymousNetworkWide\":true},\"events\":{\"postType\":{\"question\":1},\"postEditionSection\":{\"title\":1,\"body\":2,\"tags\":3}},\"story\":{\"minCompleteBodyLength\":75,\"likedTagsMaxLength\":300,\"dislikedTagsMaxLength\":300},\"jobPreferences\":{\"maxNumDeveloperRoles\":2,\"maxNumIndustries\":4},\"svgIconPath\":\"https://cdn.sstatic.net/Img/stacks-icons\",\"svgIconHash\":\"5acef7872715\"}, {\"userProfile\":{\"openGraphAPIKey\":\"4a307e43-b625-49bb-af15-ffadf2bda017\"},\"userMessaging\":{\"showNewFeatureNotice\":true},\"tags\":{},\"subscriptions\":{\"defaultBasicMaxTrueUpSeats\":250,\"defaultFreemiumMaxTrueUpSeats\":50,\"defaultMaxTrueUpSeats\":1000},\"snippets\":{\"renderDomain\":\"stacksnippets.net\",\"snippetsEnabled\":true},\"slack\":{\"sidebarAdDismissCookie\":\"slack-sidebar-ad\",\"sidebarAdDismissCookieExpirationDays\":60.0},\"site\":{\"allowImageUploads\":true,\"enableImgurHttps\":true,\"enableUserHovercards\":true,\"forceHttpsImages\":true,\"styleCode\":true},\"questions\":{\"enableQuestionTitleLengthLiveWarning\":true,\"maxTitleSize\":150,\"questionTitleLengthStartLiveWarningChars\":50},\"intercom\":{\"appId\":\"inf0secd\",\"hostBaseUrl\":\"https://stacksnippets.net\"},\"paths\":{},\"monitoring\":{\"clientTimingsAbsoluteTimeout\":30000,\"clientTimingsDebounceTimeout\":1000},\"mentions\":{\"maxNumUsersInDropdown\":50},\"markdown\":{\"enableTables\":true},\"legal\":{\"oneTrustConfigId\":\"c3d9f1e3-55f3-4eba-b268-46cee4c6789c\"},\"flags\":{\"allowRetractingCommentFlags\":true,\"allowRetractingFlags\":true},\"comments\":{},\"accounts\":{\"currentPasswordRequiredForChangingStackIdPassword\":true}});\\r\\n        StackExchange.using.setCacheBreakers({\"js/adops.en.js\":\"22a9bd59b1e9\",\"js/ask.en.js\":\"91b4450eec6e\",\"js/begin-edit-event.en.js\":\"7f52eac9bfd0\",\"js/cm.en.js\":\"4666108ef0e2\",\"js/events.en.js\":\"ae716cdea98d\",\"js/explore-qlist.en.js\":\"be3b9d8380ea\",\"js/full-anon.en.js\":\"881d5cd24b59\",\"js/full.en.js\":\"e5a23b585d5b\",\"js/help.en.js\":\"76e2886f2122\",\"js/highlightjs-loader.en.js\":\"aafcf2f12fbf\",\"js/inline-tag-editing.en.js\":\"88510a5b8778\",\"js/keyboard-shortcuts.en.js\":\"ad340a5d9fc3\",\"js/markdown-it-loader.en.js\":\"d0c0c5aa47f6\",\"js/modElections.en.js\":\"3c8bdd7e74b2\",\"js/mobile.en.js\":\"9400e80a5686\",\"js/moderator.en.js\":\"e6b39081e75a\",\"js/postCollections-transpiled.en.js\":\"59995faab763\",\"js/post-validation.en.js\":\"0cd84f0661b4\",\"js/prettify-full.en.js\":\"274544d57503\",\"js/question-editor.en.js\":\"\",\"js/review.en.js\":\"ba255a5022f4\",\"js/review-v2-transpiled.en.js\":\"83777879c9b2\",\"js/revisions.en.js\":\"b4e68bf9aff9\",\"js/stacks-editor.en.js\":\"f52741788bb0\",\"js/tageditor.en.js\":\"0ffdcf3fc9c4\",\"js/tageditornew.en.js\":\"62d0f12e4766\",\"js/tagsuggestions.en.js\":\"4e6582be0533\",\"js/wmd.en.js\":\"b5efc21c9e15\",\"js/snippet-javascript-codemirror.en.js\":\"f14b826b7484\"});\\r\\n        StackExchange.using(\"gps\", function() {\\r\\n             StackExchange.gps.init(true);\\r\\n        });\\r\\n    </script>\\r\\n    <noscript id=\"noscript-css\"><style>body,.top-bar{margin-top:1.9em}</style></noscript>\\r\\n    </head>\\r\\n    <body class=\"question-page unified-theme\">\\r\\n    <div id=\"notify-container\"></div>\\r\\n    <div id=\"custom-header\"></div>\\r\\n        \\r\\n<header class=\"top-bar js-top-bar top-bar__network _fixed\">\\r\\n    <div class=\"wmx12 mx-auto grid ai-center h100\" role=\"menubar\">\\r\\n        <div class=\"-main grid--cell\">\\r\\n                <a href=\"#\" class=\"left-sidebar-toggle p0 ai-center jc-center js-left-sidebar-toggle\" role=\"menuitem\" aria-haspopup=\"true\" aria-controls=\"left-sidebar\" aria-expanded=\"false\"><span class=\"ps-relative\"></span></a>\\r\\n                <div class=\"topbar-dialog leftnav-dialog js-leftnav-dialog dno\">\\r\\n                    <div class=\"left-sidebar js-unpinned-left-sidebar\" data-can-be=\"left-sidebar\" data-is-here-when=\"sm\"></div>\\r\\n                </div>\\r\\n                    <a href=\"https://stackoverflow.com\" class=\"-logo js-gps-track\"\\r\\n                        data-gps-track=\"top_nav.click({is_current:false, location:3, destination:8})\">\\r\\n                        <span class=\"-img _glyph\">Stack Overflow</span>\\r\\n                    </a>\\r\\n\\r\\n\\r\\n\\r\\n        </div>\\r\\n\\r\\n            <ol class=\"list-reset grid gs4\" role=\"presentation\">\\r\\n\\r\\n                    <li class=\"grid--cell md:d-none\">\\r\\n                        <a href=\"/company\" class=\"-marketing-link js-gps-track\"\\r\\n                           data-gps-track=\"top_nav.products.click({location:3, destination:7})\"\\r\\n                            data-ga=\"[&quot;top navigation&quot;,&quot;about menu click&quot;,null,null,null]\">About</a>\\r\\n                    </li>\\r\\n\\r\\n                <li class=\"grid--cell\">\\r\\n                    <a href=\"#\"\\r\\n                        class=\"-marketing-link js-gps-track js-products-menu\"\\r\\n                        aria-controls=\"products-popover\"\\r\\n                        data-controller=\"s-popover\"\\r\\n                        data-action=\"s-popover#toggle\"\\r\\n                        data-s-popover-placement=\"bottom\"\\r\\n                        data-s-popover-toggle-class=\"is-selected\"\\r\\n                        data-gps-track=\"top_nav.products.click({location:3, destination:1})\"\\r\\n                        data-ga=\"[&quot;top navigation&quot;,&quot;products menu click&quot;,null,null,null]\">\\r\\n                        Products\\r\\n                    </a>\\r\\n                </li>\\r\\n\\r\\n                    <li class=\"grid--cell md:d-none\">\\r\\n                        <a href=\"/teams\" class=\"-marketing-link js-gps-track\"\\r\\n                           data-gps-track=\"top_nav.products.click({location:3, destination:7})\"\\r\\n                            data-ga=\"[&quot;top navigation&quot;,&quot;learn more - teams&quot;,null,null,null]\">For Teams</a>\\r\\n                    </li>\\r\\n            </ol>\\r\\n            <div class=\"s-popover ws2 mtn2 p0\"\\r\\n                    id=\"products-popover\"\\r\\n                    role=\"menu\"\\r\\n                    aria-hidden=\"true\">\\r\\n                <div class=\"s-popover--arrow\"></div>\\r\\n                <ol class=\"list-reset s-anchors s-anchors__inherit\">\\r\\n                    <li class=\"m6\">\\r\\n                        <a href=\"/questions\" class=\"bar-sm p6 d-block h:bg-black-100 js-gps-track\"\\r\\n                           data-gps-track=\"top_nav.products.click({location:3, destination:2})\"\\r\\n                           data-ga=\"[&quot;top navigation&quot;,&quot;public qa submenu click&quot;,null,null,null]\">\\r\\n                            <span class=\"fs-body1 d-block\">Stack Overflow</span>\\r\\n                            <span class=\"fs-caption d-block fc-light\">Public questions &amp; answers</span>\\r\\n                        </a>\\r\\n                    </li>\\r\\n                    <li class=\"m6\">\\r\\n                        <a href=\"/teams\" class=\"bar-sm p6 d-block h:bg-black-100 js-gps-track\"\\r\\n                           data-gps-track=\"top_nav.products.click({location:3, destination:3})\"\\r\\n                           data-ga=\"[&quot;top navigation&quot;,&quot;teams submenu click&quot;,null,null,null]\">\\r\\n                            <span class=\"fs-body1 d-block\">Stack Overflow for Teams</span>\\r\\n                            <span class=\"fs-caption d-block fc-light\">Where developers &amp; technologists share private knowledge with coworkers</span>\\r\\n                        </a>\\r\\n                    </li>\\r\\n                    <li class=\"m6\">\\r\\n                        <a href=\"/jobs?so_source=ProductsMenu&so_medium=StackOverflow\" class=\"bar-sm p6 d-block h:bg-black-100 js-gps-track\"\\r\\n                            data-gps-track=\"top_nav.products.click({location:3, destination:9})\"\\r\\n                            data-ga=\"[&quot;top navigation&quot;,&quot;jobs submenu click&quot;,null,null,null]\">\\r\\n                            <span class=\"fs-body1 d-block\">Jobs</span>\\r\\n                            <span class=\"fs-caption d-block fc-light\">Programming &amp; related technical career opportunities</span>\\r\\n                        </a>\\r\\n                    </li>\\r\\n                    <li class=\"m6\">\\r\\n                        <a href=\"https://stackoverflow.com/talent\" class=\"bar-sm p6 d-block h:bg-black-100 js-gps-track\"\\r\\n                           data-gps-track=\"top_nav.products.click({location:3, destination:5})\"\\r\\n                           data-ga=\"[&quot;top navigation&quot;,&quot;talent submenu click&quot;,null,null,null]\">\\r\\n                            <span class=\"fs-body1 d-block\">Talent</span>\\r\\n                            <span class=\"fs-caption d-block fc-light\">Recruit tech talent &amp; build your employer brand</span>\\r\\n                        </a>\\r\\n                    </li>\\r\\n                    <li class=\"m6\">\\r\\n                        <a href=\"https://stackoverflow.com/advertising\" class=\"bar-sm p6 d-block h:bg-black-100 js-gps-track\"\\r\\n                           data-gps-track=\"top_nav.products.click({location:3, destination:6})\"\\r\\n                           data-ga=\"[&quot;top navigation&quot;,&quot;advertising submenu click&quot;,null,null,null]\">\\r\\n                            <span class=\"fs-body1 d-block\">Advertising</span>\\r\\n                            <span class=\"fs-caption d-block fc-light\">Reach developers &amp; technologists worldwide</span>\\r\\n                        </a>\\r\\n                    </li>\\r\\n                    <li class=\"bg-black-025 bt bc-black-075 py6 px6 bbr-sm\">\\r\\n                        <a href=\"/company\" class=\"fc-light d-block py6 px6 h:fc-black-800 js-gps-track\"\\r\\n                            data-gps-track=\"top_nav.products.click({location:3, destination:7})\"\\r\\n                            data-ga=\"[&quot;top navigation&quot;,&quot;about submenu click&quot;,null,null,null]\">About the company</a>\\r\\n                    </li>\\r\\n                </ol>\\r\\n            </div>\\r\\n\\r\\n            <form id=\"search\" role=\"search\" action=/search class=\"grid--cell fl-grow1 searchbar px12 js-searchbar \" autocomplete=\"off\">\\r\\n                    <div class=\"ps-relative\">\\r\\n                        <input name=\"q\"\\r\\n                               type=\"text\"\\r\\n                               placeholder=\"Search&#x2026;\"\\r\\n                               value=\"\"\\r\\n                               autocomplete=\"off\"\\r\\n                               maxlength=\"240\"\\r\\n                               class=\"s-input s-input__search js-search-field \"\\r\\n                               aria-label=\"Search\"\\r\\n                               aria-controls=\"top-search\" \\r\\n                               data-controller=\"s-popover\"\\r\\n                               data-action=\"focus->s-popover#show\"\\r\\n                               data-s-popover-placement=\"bottom-start\"/>\\r\\n                        <svg aria-hidden=\"true\" class=\"s-input-icon s-input-icon__search svg-icon iconSearch\" width=\"18\" height=\"18\" viewBox=\"0 0 18 18\"><path d=\"M18 16.5l-5.14-5.18h-.35a7 7 0 10-1.19 1.19v.35L16.5 18l1.5-1.5zM12 7A5 5 0 112 7a5 5 0 0110 0z\"/></svg>\\r\\n                        <div class=\"s-popover p0 wmx100 wmn4 sm:wmn-initial js-top-search-popover\" id=\"top-search\" role=\"menu\">\\r\\n    <div class=\"s-popover--arrow\"></div>\\r\\n    <div class=\"js-spinner p24 grid ai-center jc-center d-none\">\\r\\n        <div class=\"s-spinner s-spinner__sm fc-orange-400\">\\r\\n            <div class=\"v-visible-sr\">Loading&#x2026;</div>\\r\\n        </div>\\r\\n    </div>\\r\\n\\r\\n    <span class=\"v-visible-sr js-screen-reader-info\"></span>\\r\\n    <div class=\"js-ac-results overflow-y-auto hmx3 d-none\"></div>\\r\\n\\r\\n    <div class=\"js-search-hints\" aria-describedby=\"Tips for searching\"></div>\\r\\n</div>\\r\\n                    </div>\\r\\n            </form>\\r\\n        \\r\\n        \\r\\n\\r\\n<ol class=\"overflow-x-auto ml-auto -secondary grid ai-center list-reset h100 user-logged-out\" role=\"presentation\">\\r\\n        <li class=\"-item searchbar-trigger\"><a href=\"#\" class=\"-link js-searchbar-trigger\" role=\"button\" aria-label=\"Search\" aria-haspopup=\"true\" aria-controls=\"search\" title=\"Click to show search\"><svg aria-hidden=\"true\" class=\"svg-icon iconSearch\" width=\"18\" height=\"18\" viewBox=\"0 0 18 18\"><path d=\"M18 16.5l-5.14-5.18h-.35a7 7 0 10-1.19 1.19v.35L16.5 18l1.5-1.5zM12 7A5 5 0 112 7a5 5 0 0110 0z\"/></svg></a></li>\\r\\n\\r\\n            <li class=\"-ctas\">\\r\\n                            <a href=\"https://stackoverflow.com/users/login?ssrc=head&returnurl=https%3a%2f%2fstackoverflow.com%2fquestions%2ftaggedpython%3ftab%3dVotes\" class=\"login-link s-btn s-btn__filled py8 js-gps-track\" rel=\"nofollow\"\\r\\n                               data-gps-track=\"login.click\" data-ga=\"[&quot;top navigation&quot;,&quot;login button click&quot;,null,null,null]\">Log in</a>\\r\\n                            <a href=\"https://stackoverflow.com/users/signup?ssrc=head&returnurl=%2fusers%2fstory%2fcurrent\" class=\"login-link s-btn s-btn__primary py8\" rel=\"nofollow\" data-ga=\"[&quot;sign up&quot;,&quot;Sign Up Navigation&quot;,&quot;Header&quot;,null,null]\">Sign up</a>\\r\\n\\r\\n            </li>\\r\\n\\r\\n    <li class=\"js-topbar-dialog-corral\" role=\"presentation\">\\r\\n            \\r\\n\\r\\n    <div class=\"topbar-dialog siteSwitcher-dialog dno\" role=\"menu\">\\r\\n        <div class=\"header\">\\r\\n            <h3>\\r\\n                <a href=\"https://stackoverflow.com\">current community</a>\\r\\n            </h3>\\r\\n        </div>\\r\\n        <div class=\"modal-content bg-powder-050\">\\r\\n            <ul class=\"current-site\">\\r\\n                    <li class=\"grid\">\\r\\n                            <div class=\"fl1\">\\r\\n                <a href=\"https://stackoverflow.com\"\\r\\n       class=\"current-site-link site-link js-gps-track grid gs8 gsx\"\\r\\n       data-id=\"1\"\\r\\n       data-gps-track=\"site_switcher.click({ item_type:3 })\">\\r\\n        <div class=\"favicon favicon-stackoverflow site-icon grid--cell\" title=\"Stack Overflow\"></div>\\r\\n        <span class=\"grid--cell fl1\">\\r\\n            Stack Overflow\\r\\n        </span>\\r\\n    </a>\\r\\n\\r\\n    </div>\\r\\n    <div class=\"related-links\">\\r\\n            <a href=\"https://stackoverflow.com/help\" class=\"js-gps-track\" data-gps-track=\"site_switcher.click({ item_type:14 })\">help</a>\\r\\n            <a href=\"https://chat.stackoverflow.com/?tab=site&amp;host=stackoverflow.com\" class=\"js-gps-track\" data-gps-track=\"site_switcher.click({ item_type:6 })\">chat</a>\\r\\n    </div>\\r\\n\\r\\n                    </li>\\r\\n                    <li class=\"related-site grid\">\\r\\n                            <div class=\"L-shaped-icon-container\">\\r\\n        <span class=\"L-shaped-icon\"></span>\\r\\n    </div>\\r\\n\\r\\n                            <a href=\"https://meta.stackoverflow.com\"\\r\\n       class=\" site-link js-gps-track grid gs8 gsx\"\\r\\n       data-id=\"552\"\\r\\n       data-gps-track=\"site.switch({ target_site:552, item_type:3 }),site_switcher.click({ item_type:4 })\">\\r\\n        <div class=\"favicon favicon-stackoverflowmeta site-icon grid--cell\" title=\"Meta Stack Overflow\"></div>\\r\\n        <span class=\"grid--cell fl1\">\\r\\n            Meta Stack Overflow\\r\\n        </span>\\r\\n    </a>\\r\\n\\r\\n                    </li>\\r\\n            </ul>\\r\\n        </div>\\r\\n\\r\\n        <div class=\"header\" id=\"your-communities-header\">\\r\\n            <h3>\\r\\nyour communities            </h3>\\r\\n\\r\\n        </div>\\r\\n        <div class=\"modal-content\" id=\"your-communities-section\">\\r\\n\\r\\n                <div class=\"call-to-login\">\\r\\n<a href=\"https://stackoverflow.com/users/signup?ssrc=site_switcher&amp;returnurl=%2fusers%2fstory%2fcurrent\" class=\"login-link js-gps-track\" data-gps-track=\"site_switcher.click({ item_type:10 })\">Sign up</a> or <a href=\"https://stackoverflow.com/users/login?ssrc=site_switcher&amp;returnurl=https%3a%2f%2fstackoverflow.com%2fquestions%2ftaggedpython%3ftab%3dVotes\" class=\"login-link js-gps-track\" data-gps-track=\"site_switcher.click({ item_type:11 })\">log in</a> to customize your list.                </div>\\r\\n        </div>\\r\\n\\r\\n        <div class=\"header\">\\r\\n            <h3><a href=\"https://stackexchange.com/sites\">more stack exchange communities</a>\\r\\n            </h3>\\r\\n            <a href=\"https://stackoverflow.blog\" class=\"fr\">company blog</a>\\r\\n        </div>\\r\\n        <div class=\"modal-content\">\\r\\n                <div class=\"child-content\"></div>\\r\\n        </div>        \\r\\n    </div>\\r\\n\\r\\n    </li>\\r\\n</ol>\\r\\n    </div>\\r\\n</header>\\r\\n\\r\\n    <script>\\r\\n        StackExchange.ready(function () { StackExchange.topbar.init(); });\\r\\nStackExchange.scrollPadding.setPaddingTop(50, 10);    </script>\\r\\n\\r\\n\\r\\n\\r\\n\\r\\n\\r\\n    <div class=\"container\">\\r\\n            \\r\\n\\r\\n\\r\\n<div id=\"left-sidebar\" data-is-here-when=\"md lg\" class=\"left-sidebar js-pinned-left-sidebar ps-relative\">\\r\\n    <div class=\"left-sidebar--sticky-container js-sticky-leftnav\">\\r\\n        <nav role=\"navigation\">\\r\\n            <ol class=\"nav-links\">\\r\\n        <li class=\"\">\\r\\n            <a\\r\\n               href=\"/\"\\r\\n               class=\"pl8 js-gps-track nav-links--link\"\\r\\n               \\r\\n               data-gps-track=\"top_nav.click({is_current:false, location:3, destination:8})\" \\r\\n               aria-controls=\"\" data-controller=\"\" data-s-popover-placement=\"right\">\\r\\n                    <div class=\"grid ai-center\">\\r\\n                        <div class=\"grid--cell truncate\">\\r\\n                            Home\\r\\n                        </div>\\r\\n                    </div>\\r\\n            </a>\\r\\n        </li>\\r\\n                <li>\\r\\n                    <ol class=\"nav-links\">\\r\\n                            <li class=\"fs-fine tt-uppercase ml8 mt16 mb4 fc-light\">Public</li>\\r\\n\\r\\n        <li class=\" youarehere\">\\r\\n            <a id=\"nav-questions\"\\r\\n               href=\"/questions\"\\r\\n               class=\"pl8 js-gps-track nav-links--link -link__with-icon\"\\r\\n               \\r\\n               data-gps-track=\"top_nav.click({is_current:true, location:3, destination:1})\" \\r\\n               aria-controls=\"\" data-controller=\"\" data-s-popover-placement=\"right\">\\r\\n<svg aria-hidden=\"true\" class=\"svg-icon iconGlobe\" width=\"18\" height=\"18\" viewBox=\"0 0 18 18\"><path d=\"M9 1a8 8 0 100 16A8 8 0 009 1zM8 15.32a6.4 6.4 0 01-5.23-7.75L7 11.68v.8c0 .88.12 1.32 1 1.32v1.52zm5.72-2c-.2-.66-1-1.32-1.72-1.32h-1v-2c0-.44-.56-1-1-1H6V7h1c.44 0 1-.56 1-1V5h2c.88 0 1.4-.72 1.4-1.6v-.33a6.4 6.4 0 012.32 10.24v.01z\"/></svg>                    <span class=\"-link--channel-name\">Questions</span>\\r\\n            </a>\\r\\n        </li>\\r\\n\\r\\n        <li class=\"\">\\r\\n            <a id=\"nav-tags\"\\r\\n               href=\"/tags\"\\r\\n               class=\" js-gps-track nav-links--link\"\\r\\n               \\r\\n               data-gps-track=\"top_nav.click({is_current:false, location:3, destination:2})\" \\r\\n               aria-controls=\"\" data-controller=\"\" data-s-popover-placement=\"right\">\\r\\n                    <div class=\"grid ai-center\">\\r\\n                        <div class=\"grid--cell truncate\">\\r\\n                            Tags\\r\\n                        </div>\\r\\n                    </div>\\r\\n            </a>\\r\\n        </li>\\r\\n        <li class=\"\">\\r\\n            <a id=\"nav-users\"\\r\\n               href=\"/users\"\\r\\n               class=\" js-gps-track nav-links--link\"\\r\\n               \\r\\n               data-gps-track=\"top_nav.click({is_current:false, location:3, destination:3})\" \\r\\n               aria-controls=\"\" data-controller=\"\" data-s-popover-placement=\"right\">\\r\\n                    <div class=\"grid ai-center\">\\r\\n                        <div class=\"grid--cell truncate\">\\r\\n                            Users\\r\\n                        </div>\\r\\n                    </div>\\r\\n            </a>\\r\\n        </li>\\r\\n                            <li class=\"fs-fine tt-uppercase ml8 mt16 mb4 fc-light\">Find a Job</li>\\r\\n        <li class=\"\">\\r\\n            <a id=\"nav-jobs\"\\r\\n               href=\"/jobs?so_medium=StackOverflow&amp;so_source=SiteNav\"\\r\\n               class=\" js-gps-track nav-links--link\"\\r\\n               \\r\\n               data-gps-track=\"top_nav.click({is_current:false, location:3, destination:6})\" \\r\\n               aria-controls=\"\" data-controller=\"\" data-s-popover-placement=\"right\">\\r\\n                    <div class=\"grid ai-center\">\\r\\n                        <div class=\"grid--cell truncate\">\\r\\n                            Jobs\\r\\n                        </div>\\r\\n                    </div>\\r\\n            </a>\\r\\n        </li>\\r\\n        <li class=\"\">\\r\\n            <a id=\"nav-companies\"\\r\\n               href=\"/jobs/companies?so_medium=StackOverflow&amp;so_source=SiteNav\"\\r\\n               class=\" js-gps-track nav-links--link\"\\r\\n               \\r\\n               data-gps-track=\"top_nav.click({is_current:false, location:3, destination:12})\" \\r\\n               aria-controls=\"\" data-controller=\"\" data-s-popover-placement=\"right\">\\r\\n                    <div class=\"grid ai-center\">\\r\\n                        <div class=\"grid--cell truncate\">\\r\\n                            Companies\\r\\n                        </div>\\r\\n                    </div>\\r\\n            </a>\\r\\n        </li>\\r\\n                    </ol>\\r\\n                </li>\\r\\n                    <li>\\r\\n                        <ol class=\"nav-links\">\\r\\n                                    \\r\\n\\r\\n<div class=\"js-freemium-cta ps-relative\">\\r\\n\\r\\n    <div class=\"fs-fine tt-uppercase ml8 mt16 mb8 fc-light\">Teams</div>\\r\\n\\r\\n    <div class=\"bt bl bb bc-black-075 p12 pb6 fc-black-600 blr-sm overflow-hidden\">\\r\\n        <strong class=\"fc-black-750 mb6\">Stack Overflow for Teams</strong>\\r\\n        – Collaborate and share knowledge with a private group.\\r\\n        \\r\\n        <img class=\"wmx100 mx-auto my8 h-auto d-block\" width=\"139\" height=\"114\" src=\"https://cdn.sstatic.net/Img/teams/teams-illo-free-sidebar-promo.svg?v=47faa659a05e\" alt=\"\">\\r\\n\\r\\n        <a href=\"https://stackoverflow.com/teams/create/free\" \\r\\n           class=\"w100 s-btn s-btn__primary s-btn__xs js-gps-track\"\\r\\n           data-gps-track=\"teams.create.left-sidenav.click({ Action: 6 })\"\\r\\n           data-ga=\"[&quot;teams left navigation - anonymous&quot;,&quot;left nav free cta&quot;,&quot;stackoverflow.com/teams/create/free&quot;,null,null]\">Create a free Team</a>\\r\\n        <a href=\"https://stackoverflow.com/teams\" \\r\\n           class=\"w100 s-btn s-btn__muted s-btn__xs js-gps-track\"\\r\\n           data-gps-track=\"teams.create.left-sidenav.click({ Action: 5 })\"\\r\\n           data-ga=\"[&quot;teams left navigation - anonymous&quot;,&quot;left nav free cta&quot;,&quot;stackoverflow.com/teams&quot;,null,null]\">What is Teams?</a>\\r\\n    </div>\\r\\n</div>\\r\\n\\r\\n                                <li class=\"grid ai-center jc-space-between ml8 mt24 mb4 js-create-team-cta d-none\">\\r\\n                                    <div class=\"grid--cell tt-uppercase fs-fine fc-light\">Teams</div>\\r\\n                                    <div class=\"grid--cell fs-fine fc-light mr4\">\\r\\n                                        <a href=\"javascript:void(0)\" class=\"s-link s-link__inherit js-gps-track\"\\r\\n                                            role=\"button\"\\r\\n                                            aria-controls=\"popover-teams-create-cta\"\\r\\n                                            data-controller=\"s-popover\"\\r\\n                                            data-action=\"s-popover#toggle\"\\r\\n                                            data-s-popover-placement=\"bottom-start\"\\r\\n                                            data-s-popover-toggle-class=\"is-selected\"\\r\\n                                            data-gps-track=\"teams.create.left-sidenav.click({ Action: ShowInfo })\"\\r\\n                                            data-ga=\"[&quot;teams left navigation - anonymous&quot;,&quot;left nav show teams info&quot;,null,null,null]\">\\r\\n                                            What&#x2019;s this?\\r\\n                                        </a>\\r\\n\\r\\n                                    </div>\\r\\n                                </li>\\r\\n                                <li class=\"ps-relative js-create-team-cta d-none\">\\r\\n                                    <a href=\"https://stackoverflow.com/teams/create/free\"\\r\\n                                       class=\"pl8 js-gps-track nav-links--link\"\\r\\n                                       title=\"Stack Overflow for Teams is a private, secure spot for your organization\\'s questions and answers.\"\\r\\n                                       data-gps-track=\"teams.create.left-sidenav.click({ Action: FreemiumTeamsCreateClick })\"\\r\\n                                       data-ga=\"[&quot;teams left navigation - anonymous&quot;,&quot;left nav team click&quot;,&quot;stackoverflow.com/teams/create/free&quot;,null,null]\">\\r\\n                                        <div class=\"grid ai-center\">\\r\\n                                            <div class=\"grid--cell s-avatar va-middle bg-orange-400\">\\r\\n                                                <div class=\"s-avatar--letter mtn1\">\\r\\n                                                    <svg aria-hidden=\"true\" class=\"svg-icon iconBriefcaseSm\" width=\"14\" height=\"14\" viewBox=\"0 0 14 14\"><path d=\"M4 3a1 1 0 011-1h4a1 1 0 011 1v1h.5c.83 0 1.5.67 1.5 1.5v5c0 .83-.67 1.5-1.5 1.5h-7A1.5 1.5 0 012 10.5v-5C2 4.67 2.67 4 3.5 4H4V3zm5 1V3H5v1h4z\"/></svg>\\r\\n                                                </div>\\r\\n                                                <svg aria-hidden=\"true\" class=\"native s-avatar--badge svg-icon iconShieldXSm\" width=\"9\" height=\"10\" viewBox=\"0 0 9 10\"><path d=\"M0 1.84L4.5 0 9 1.84v3.17C9 7.53 6.3 10 4.5 10 2.7 10 0 7.53 0 5.01V1.84z\" fill=\"var(--white)\"/><path d=\"M1 2.5L4.5 1 8 2.5v2.51C8 7.34 5.34 9 4.5 9 3.65 9 1 7.34 1 5.01V2.5zm2.98 3.02L3.2 7h2.6l-.78-1.48a.4.4 0 01.15-.38c.34-.24.73-.7.73-1.14 0-.71-.5-1.23-1.41-1.23-.92 0-1.39.52-1.39 1.23 0 .44.4.9.73 1.14.12.08.18.23.15.38z\" fill=\"var(--black-500)\"/></svg>\\r\\n                                            </div>\\r\\n                                            <div class=\"grid--cell pl6\">\\r\\n                                                Create free Team\\r\\n                                            </div>\\r\\n                                        </div>\\r\\n                                    </a>\\r\\n                                </li>\\r\\n                        </ol>\\r\\n                    </li>\\r\\n            </ol>\\r\\n        </nav>\\r\\n    </div>\\r\\n\\r\\n\\r\\n\\r\\n        <div class=\"s-popover\"\\r\\n             id=\"popover-teams-create-cta\"\\r\\n             role=\"menu\"\\r\\n             aria-hidden=\"true\">\\r\\n            <div class=\"s-popover--arrow\"></div>\\r\\n\\r\\n            <div class=\"ps-relative overflow-hidden\">\\r\\n                <p class=\"mb2\"><strong>Teams</strong></p>\\r\\n                <p class=\"mb12 fs-caption fc-black-400\">Q&amp;A for work</p>\\r\\n                <p class=\"mb12 fs-caption fc-medium\">Connect and share knowledge within a single location that is structured and easy to search.</p>\\r\\n                <a href=\"https://stackoverflow.com/teams\"\\r\\n                   class=\"js-gps-track s-btn s-btn__primary s-btn__xs\"\\r\\n                   data-gps-track=\"teams.create.left-sidenav.click({ Action: CtaClick })\"\\r\\n                   data-ga=\"[&quot;teams left navigation - anonymous&quot;,&quot;left nav cta&quot;,&quot;stackoverflow.com/teams&quot;,null,null]\">\\r\\n                    Learn more\\r\\n                </a>\\r\\n            </div>\\r\\n\\r\\n            <div class=\"ps-absolute t8 r8\">\\r\\n                <svg aria-hidden=\"true\" class=\"fc-orange-500 svg-spot spotPeople\" width=\"48\" height=\"48\" viewBox=\"0 0 48 48\"><path d=\"M13.5 28a4.5 4.5 0 100-9 4.5 4.5 0 000 9zM7 30a1 1 0 011-1h11a1 1 0 011 1v5h11v-5a1 1 0 011-1h12a1 1 0 011 1v10a2 2 0 01-2 2H33v5a1 1 0 01-1 1H20a1 1 0 01-1-1v-5H8a1 1 0 01-1-1V30zm25-6.5a4.5 4.5 0 109 0 4.5 4.5 0 00-9 0zM24.5 34a4.5 4.5 0 100-9 4.5 4.5 0 000 9z\" opacity=\".2\"/><path d=\"M16.4 26.08A6 6 0 107.53 26C5.64 26.06 4 27.52 4 29.45V40a1 1 0 001 1h9a1 1 0 100-2h-4v-7a1 1 0 10-2 0v7H6v-9.55c0-.73.67-1.45 1.64-1.45H16a1 1 0 00.4-1.92zM12 18a4 4 0 110 8 4 4 0 010-8zm16.47 14a6 6 0 10-8.94 0A3.6 3.6 0 0016 35.5V46a1 1 0 001 1h14a1 1 0 001-1V35.5c0-1.94-1.64-3.42-3.53-3.5zM20 28a4 4 0 118 0 4 4 0 01-8 0zm-.3 6h8.6c1 0 1.7.75 1.7 1.5V45h-2v-7a1 1 0 10-2 0v7h-4v-7a1 1 0 10-2 0v7h-2v-9.5c0-.75.7-1.5 1.7-1.5zM42 22c0 1.54-.58 2.94-1.53 4A3.5 3.5 0 0144 29.45V40a1 1 0 01-1 1h-9a1 1 0 110-2h4v-7a1 1 0 112 0v7h2v-9.55A1.5 1.5 0 0040.48 28H32a1 1 0 01-.4-1.92A6 6 0 1142 22zm-2 0a4 4 0 10-8 0 4 4 0 008 0z\"/><path d=\"M17 10a1 1 0 011-1h12a1 1 0 110 2H18a1 1 0 01-1-1zm1-5a1 1 0 100 2h12a1 1 0 100-2H18zm-4-4a1 1 0 00-1 1v12a1 1 0 001 1h5.09l4.2 4.2a1 1 0 001.46-.04l3.7-4.16H34a1 1 0 001-1V2a1 1 0 00-1-1H14zm1 12V3h18v10h-5a1 1 0 00-.75.34l-3.3 3.7-3.74-3.75a1 1 0 00-.71-.29H15z\" opacity=\".35\"/></svg>\\r\\n            </div>\\r\\n        </div>\\r\\n\\r\\n</div>\\r\\n\\r\\n\\r\\n\\r\\n        <div id=\"content\" class=\"snippet-hidden\">\\r\\n\\r\\n            \\r\\n<div class=\"grid grid__center w100 h100\">\\r\\n    <div class=\"grid ai-center jc-center gs32 md:fd-column\">\\r\\n        <div class=\"grid--cell sm:d-none\">\\r\\n            <img class=\"wmx100\" src=\"https://cdn.sstatic.net/Sites/stackoverflow/img/404.svg\" alt=\"Page not found\">\\r\\n        </div>\\r\\n        <div class=\"grid--cell wmx5\">\\r\\n            <h1 class=\"fs-headline1 mb4\">Page not found</h1>\\r\\n            <div class=\"fs-subheading mb24\">\\r\\n                    <p>We&#x27;re sorry, we couldn&#x27;t find the page you requested.</p>\\r\\n            </div>\\r\\n\\r\\n            <div class=\"fs-body2\">\\r\\n\\r\\n                    <p>Try <a href=\"/search\">searching for similar questions</a></p>\\r\\n\\r\\n                <p>Browse our <a href=\"/questions\">recent questions</a></p>\\r\\n                <p>Browse our <a href=\"/tags\">popular tags</a></p>\\r\\n\\r\\n                    <p>If you feel something is missing that should be here, <a href=\"/contact\">contact us</a>.</p>\\r\\n            </div>\\r\\n        </div>\\r\\n    </div>\\r\\n</div>\\r\\n\\r\\n        </div>\\r\\n    </div>\\r\\n            <footer id=\"footer\" class=\"site-footer js-footer\" role=\"contentinfo\">\\r\\n        <div class=\"site-footer--container\">\\r\\n                <div class=\"site-footer--logo\">\\r\\n                    \\r\\n                    <a href=\"https://stackoverflow.com\"><svg aria-hidden=\"true\" class=\"native svg-icon iconLogoGlyphMd\" width=\"32\" height=\"37\" viewBox=\"0 0 32 37\"><path d=\"M26 33v-9h4v13H0V24h4v9h22z\" fill=\"#BCBBBB\"/><path d=\"M21.5 0l-2.7 2 9.9 13.3 2.7-2L21.5 0zM26 18.4L13.3 7.8l2.1-2.5 12.7 10.6-2.1 2.5zM9.1 15.2l15 7 1.4-3-15-7-1.4 3zm14 10.79l.68-2.95-16.1-3.35L7 23l16.1 2.99zM23 30H7v-3h16v3z\" fill=\"#F48024\"/></svg></a>\\r\\n                </div>\\r\\n            <nav class=\"site-footer--nav\">\\r\\n                    <div class=\"site-footer--col site-footer--col__visible js-footer-col\" data-name=\"default\">\\r\\n                        <h5 class=\"-title\"><a href=\"https://stackoverflow.com\" class=\"js-gps-track\" data-gps-track=\"footer.click({ location: 3, link: 15})\">Stack Overflow</a></h5>\\r\\n                        <ul class=\"-list js-primary-footer-links\">\\r\\n                            <li class=\"-item\"><a href=\"/questions\" class=\"js-gps-track -link\" data-gps-track=\"footer.click({ location: 3, link: 16})\">Questions</a></li>\\r\\n                                <li class=\"-item\"><a href=\"https://stackoverflow.com/jobs\" class=\"js-gps-track -link\" data-gps-track=\"footer.click({ location: 3, link: 17})\">Jobs</a></li>\\r\\n                                <li class=\"-item\"><a href=\"https://stackoverflow.com/jobs/directory/developer-jobs\" class=\"js-gps-track -link\" data-gps-track=\"footer.click({ location: 3, link: 11})\">Developer Jobs Directory</a></li>\\r\\n                                     <li class=\"-item\"><a href=\"https://stackoverflow.com/jobs/salary\" class=\"js-gps-track -link\" data-gps-track=\"footer.click({ location: 3, link: 28})\">Salary Calculator</a></li>\\r\\n                                <li class=\"-item\"><a href=\"/help\" class=\"js-gps-track -link\" data-gps-track=\"footer.click({ location: 3, link: 3 })\">Help</a></li>\\r\\n                                <li class=\"-item\"><a onclick=\\'StackExchange.switchMobile(\"on\")\\' class=\"js-gps-track -link\" data-gps-track=\"footer.click({ location: 3, link: 12 })\">Mobile</a></li>\\r\\n                        </ul>\\r\\n                    </div>\\r\\n                    <div class=\"site-footer--col site-footer--col__visible js-footer-col\" data-name=\"default\">\\r\\n                        <h5 class=\"-title\"><a href=\"https://stackoverflowbusiness.com\" class=\"js-gps-track\" data-gps-track=\"footer.click({ location: 3, link: 19 })\">Products</a></h5>\\r\\n                        <ul class=\"-list\">\\r\\n                            <li class=\"-item\"><a href=\"https://stackoverflow.com/teams\" class=\"js-gps-track -link\" \\r\\n                                                 data-ga=\"[&quot;teams traffic&quot;,&quot;footer - site nav&quot;,&quot;stackoverflow.com/teams&quot;,null,{&quot;dimension4&quot;:&quot;teams&quot;}]\"\\r\\n                                                 data-gps-track=\"footer.click({ location: 3, link: 29 })\">Teams</a></li>\\r\\n                            <li class=\"-item\"><a href=\"https://stackoverflow.com/talent\" class=\"js-gps-track -link\" data-gps-track=\"footer.click({ location: 3, link: 20 })\">Talent</a></li>\\r\\n                            <li class=\"-item\"><a href=\"https://stackoverflow.com/advertising\" class=\"js-gps-track -link\" data-gps-track=\"footer.click({ location: 3, link: 21 })\">Advertising</a></li>\\r\\n                            <li class=\"-item\"><a href=\"https://stackoverflow.com/enterprise\" class=\"js-gps-track -link\" data-gps-track=\"footer.click({ location: 3, link: 22 })\">Enterprise</a></li>\\r\\n                        </ul>\\r\\n                    </div>\\r\\n                <div class=\"site-footer--col site-footer--col__visible js-footer-col\" data-name=\"default\">\\r\\n                    <h5 class=\"-title\"><a class=\"js-gps-track\" data-gps-track=\"footer.click({ location: 3, link: 1 })\" href=\"https://stackoverflow.com/company\">Company</a></h5>\\r\\n                    <ul class=\"-list\">\\r\\n                            <li class=\"-item\"><a class=\"js-gps-track -link\" data-gps-track=\"footer.click({ location: 3, link: 1 })\" href=\"https://stackoverflow.com/company\">About</a></li>\\r\\n                        <li class=\"-item\"><a class=\"js-gps-track -link\" data-gps-track=\"footer.click({ location: 3, link: 27 })\" href=\"https://stackoverflow.com/company/press\">Press</a></li>\\r\\n                            <li class=\"-item\"><a class=\"js-gps-track -link\" data-gps-track=\"footer.click({ location: 3, link: 9 })\" href=\"https://stackoverflow.com/company/work-here\">Work Here</a></li>\\r\\n                        <li class=\"-item\"><a class=\"js-gps-track -link\" data-gps-track=\"footer.click({ location: 3, link: 7 })\" href=\"https://stackoverflow.com/legal\">Legal</a></li>\\r\\n                        <li class=\"-item\"><a class=\"js-gps-track -link\" data-gps-track=\"footer.click({ location: 3, link: 8 })\" href=\"https://stackoverflow.com/legal/privacy-policy\">Privacy Policy</a></li>\\r\\n                        <li class=\"-item\"><a class=\"js-gps-track -link\" data-gps-track=\"footer.click({ location: 3, link: 37 })\" href=\"https://stackoverflow.com/legal/terms-of-service\">Terms of Service</a></li>\\r\\n                            <li class=\"-item\"><a class=\"js-gps-track -link\" data-gps-track=\"footer.click({ location: 3, link: 13 })\" href=\"https://stackoverflow.com/company/contact\">Contact Us</a></li>\\r\\n                        <li class=\"-item\"><a class=\"js-gps-track -link\" data-gps-track=\"footer.click({ location: 3, link: 39 })\" href=\"https://stackoverflow.com/legal/cookie-policy\">Cookie Policy</a></li>\\r\\n                    </ul>\\r\\n                </div>\\r\\n                <div class=\"site-footer--col site-footer--categories-nav site-footer--col__visible\">\\r\\n                    <a href=\"#\" class=\"site-footer--back js-footer-back\"><svg aria-hidden=\"true\" class=\"svg-icon iconArrowLeftAlt\" width=\"18\" height=\"18\" viewBox=\"0 0 18 18\"><path d=\"M10.58 16L12 14.59 6.4 9 12 3.41 10.57 2l-7 7 7 7z\"/></svg></a>\\r\\n                    <div>\\r\\n                        <h5 class=\"-title\"><a href=\"https://stackexchange.com\" data-gps-track=\"footer.click({ location: 3, link: 30 })\">Stack Exchange<br> Network</a></h5>\\r\\n                        <ul class=\"-list\">\\r\\n                            <li class=\"-item\"><a href=\"#\" class=\"-link _expandable js-footer-category-trigger js-gps-track\" data-gps-track=\"footer.click({ location: 3, link: 24 })\" data-target=\"Technology\">Technology</a></li>\\r\\n                            <li class=\"-item\"><a href=\"#\" class=\"-link _expandable js-footer-category-trigger js-gps-track\" data-gps-track=\"footer.click({ location: 3, link: 24 })\" data-target=\"Life / Arts\">Life / Arts</a></li>\\r\\n                            <li class=\"-item\"><a href=\"#\" class=\"-link _expandable js-footer-category-trigger js-gps-track\" data-gps-track=\"footer.click({ location: 3, link: 24 })\" data-target=\"Culture / Recreation\">Culture / Recreation</a></li>\\r\\n                            <li class=\"-item\"><a href=\"#\" class=\"-link _expandable js-footer-category-trigger js-gps-track\" data-gps-track=\"footer.click({ location: 3, link: 24 })\" data-target=\"Science\">Science</a></li>\\r\\n                            <li class=\"-item\"><a href=\"#\" class=\"-link _expandable js-footer-category-trigger js-gps-track\" data-gps-track=\"footer.click({ location: 3, link: 24 })\" data-target=\"Other\">Other</a></li>\\r\\n                        </ul>\\r\\n                    </div>\\r\\n                </div>\\r\\n                <div class=\"site-footer--categories\">\\r\\n                        <div class=\"site-footer--col site-footer--category js-footer-col\" data-name=\"Technology\">\\r\\n        <ul class=\"-list\">\\r\\n                <li class=\"-item\"><a href=\"https://stackoverflow.com\" class=\"-link js-gps-track\" data-gps-track=\"footer.click({ location: 1, link: 25 })\" title=\"professional and enthusiast programmers\">Stack Overflow</a></li>\\r\\n                <li class=\"-item\"><a href=\"https://serverfault.com\" class=\"-link js-gps-track\" data-gps-track=\"footer.click({ location: 1, link: 25 })\" title=\"system and network administrators\">Server Fault</a></li>\\r\\n                <li class=\"-item\"><a href=\"https://superuser.com\" class=\"-link js-gps-track\" data-gps-track=\"footer.click({ location: 1, link: 25 })\" title=\"computer enthusiasts and power users\">Super User</a></li>\\r\\n                <li class=\"-item\"><a href=\"https://webapps.stackexchange.com\" class=\"-link js-gps-track\" data-gps-track=\"footer.click({ location: 1, link: 25 })\" title=\"power users of web applications\">Web Applications</a></li>\\r\\n                <li class=\"-item\"><a href=\"https://askubuntu.com\" class=\"-link js-gps-track\" data-gps-track=\"footer.click({ location: 1, link: 25 })\" title=\"Ubuntu users and developers\">Ask Ubuntu</a></li>\\r\\n                <li class=\"-item\"><a href=\"https://webmasters.stackexchange.com\" class=\"-link js-gps-track\" data-gps-track=\"footer.click({ location: 1, link: 25 })\" title=\"pro webmasters\">Webmasters</a></li>\\r\\n                <li class=\"-item\"><a href=\"https://gamedev.stackexchange.com\" class=\"-link js-gps-track\" data-gps-track=\"footer.click({ location: 1, link: 25 })\" title=\"professional and independent game developers\">Game Development</a></li>\\r\\n                    </ul></div><div class=\"site-footer--col site-footer--category js-footer-col\" data-name=\"Technology\"><ul class=\"-list\">\\r\\n                <li class=\"-item\"><a href=\"https://tex.stackexchange.com\" class=\"-link js-gps-track\" data-gps-track=\"footer.click({ location: 1, link: 25 })\" title=\"users of TeX, LaTeX, ConTeXt, and related typesetting systems\">TeX - LaTeX</a></li>\\r\\n                <li class=\"-item\"><a href=\"https://softwareengineering.stackexchange.com\" class=\"-link js-gps-track\" data-gps-track=\"footer.click({ location: 1, link: 25 })\" title=\"professionals, academics, and students working within the systems development life cycle\">Software Engineering</a></li>\\r\\n                <li class=\"-item\"><a href=\"https://unix.stackexchange.com\" class=\"-link js-gps-track\" data-gps-track=\"footer.click({ location: 1, link: 25 })\" title=\"users of Linux, FreeBSD and other Un*x-like operating systems\">Unix &amp; Linux</a></li>\\r\\n                <li class=\"-item\"><a href=\"https://apple.stackexchange.com\" class=\"-link js-gps-track\" data-gps-track=\"footer.click({ location: 1, link: 25 })\" title=\"power users of Apple hardware and software\">Ask Different (Apple)</a></li>\\r\\n                <li class=\"-item\"><a href=\"https://wordpress.stackexchange.com\" class=\"-link js-gps-track\" data-gps-track=\"footer.click({ location: 1, link: 25 })\" title=\"WordPress developers and administrators\">WordPress Development</a></li>\\r\\n                <li class=\"-item\"><a href=\"https://gis.stackexchange.com\" class=\"-link js-gps-track\" data-gps-track=\"footer.click({ location: 1, link: 25 })\" title=\"cartographers, geographers and GIS professionals\">Geographic Information Systems</a></li>\\r\\n                <li class=\"-item\"><a href=\"https://electronics.stackexchange.com\" class=\"-link js-gps-track\" data-gps-track=\"footer.click({ location: 1, link: 25 })\" title=\"electronics and electrical engineering professionals, students, and enthusiasts\">Electrical Engineering</a></li>\\r\\n                    </ul></div><div class=\"site-footer--col site-footer--category js-footer-col\" data-name=\"Technology\"><ul class=\"-list\">\\r\\n                <li class=\"-item\"><a href=\"https://android.stackexchange.com\" class=\"-link js-gps-track\" data-gps-track=\"footer.click({ location: 1, link: 25 })\" title=\"enthusiasts and power users of the Android operating system\">Android Enthusiasts</a></li>\\r\\n                <li class=\"-item\"><a href=\"https://security.stackexchange.com\" class=\"-link js-gps-track\" data-gps-track=\"footer.click({ location: 1, link: 25 })\" title=\"information security professionals\">Information Security</a></li>\\r\\n                <li class=\"-item\"><a href=\"https://dba.stackexchange.com\" class=\"-link js-gps-track\" data-gps-track=\"footer.click({ location: 1, link: 25 })\" title=\"database professionals who wish to improve their database skills and learn from others in the community\">Database Administrators</a></li>\\r\\n                <li class=\"-item\"><a href=\"https://drupal.stackexchange.com\" class=\"-link js-gps-track\" data-gps-track=\"footer.click({ location: 1, link: 25 })\" title=\"Drupal developers and administrators\">Drupal Answers</a></li>\\r\\n                <li class=\"-item\"><a href=\"https://sharepoint.stackexchange.com\" class=\"-link js-gps-track\" data-gps-track=\"footer.click({ location: 1, link: 25 })\" title=\"SharePoint enthusiasts\">SharePoint</a></li>\\r\\n                <li class=\"-item\"><a href=\"https://ux.stackexchange.com\" class=\"-link js-gps-track\" data-gps-track=\"footer.click({ location: 1, link: 25 })\" title=\"user experience researchers and experts\">User Experience</a></li>\\r\\n                <li class=\"-item\"><a href=\"https://mathematica.stackexchange.com\" class=\"-link js-gps-track\" data-gps-track=\"footer.click({ location: 1, link: 25 })\" title=\"users of Wolfram Mathematica\">Mathematica</a></li>\\r\\n                    </ul></div><div class=\"site-footer--col site-footer--category js-footer-col\" data-name=\"Technology\"><ul class=\"-list\">\\r\\n                <li class=\"-item\"><a href=\"https://salesforce.stackexchange.com\" class=\"-link js-gps-track\" data-gps-track=\"footer.click({ location: 1, link: 25 })\" title=\"Salesforce administrators, implementation experts, developers and anybody in-between\">Salesforce</a></li>\\r\\n                <li class=\"-item\"><a href=\"https://expressionengine.stackexchange.com\" class=\"-link js-gps-track\" data-gps-track=\"footer.click({ location: 1, link: 25 })\" title=\"administrators, end users, developers and designers for ExpressionEngine&#xAE; CMS\">ExpressionEngine&#xAE; Answers</a></li>\\r\\n                <li class=\"-item\"><a href=\"https://pt.stackoverflow.com\" class=\"-link js-gps-track\" data-gps-track=\"footer.click({ location: 1, link: 25 })\" title=\"programadores profissionais e entusiastas\">Stack Overflow em Portugu&#xEA;s</a></li>\\r\\n                <li class=\"-item\"><a href=\"https://blender.stackexchange.com\" class=\"-link js-gps-track\" data-gps-track=\"footer.click({ location: 1, link: 25 })\" title=\"people who use Blender to create 3D graphics, animations, or games\">Blender</a></li>\\r\\n                <li class=\"-item\"><a href=\"https://networkengineering.stackexchange.com\" class=\"-link js-gps-track\" data-gps-track=\"footer.click({ location: 1, link: 25 })\" title=\"network engineers\">Network Engineering</a></li>\\r\\n                <li class=\"-item\"><a href=\"https://crypto.stackexchange.com\" class=\"-link js-gps-track\" data-gps-track=\"footer.click({ location: 1, link: 25 })\" title=\"software developers, mathematicians and others interested in cryptography\">Cryptography</a></li>\\r\\n                <li class=\"-item\"><a href=\"https://codereview.stackexchange.com\" class=\"-link js-gps-track\" data-gps-track=\"footer.click({ location: 1, link: 25 })\" title=\"peer programmer code reviews\">Code Review</a></li>\\r\\n                    </ul></div><div class=\"site-footer--col site-footer--category js-footer-col\" data-name=\"Technology\"><ul class=\"-list\">\\r\\n                <li class=\"-item\"><a href=\"https://magento.stackexchange.com\" class=\"-link js-gps-track\" data-gps-track=\"footer.click({ location: 1, link: 25 })\" title=\"users of the Magento e-Commerce platform\">Magento</a></li>\\r\\n                <li class=\"-item\"><a href=\"https://softwarerecs.stackexchange.com\" class=\"-link js-gps-track\" data-gps-track=\"footer.click({ location: 1, link: 25 })\" title=\"people seeking specific software recommendations\">Software Recommendations</a></li>\\r\\n                <li class=\"-item\"><a href=\"https://dsp.stackexchange.com\" class=\"-link js-gps-track\" data-gps-track=\"footer.click({ location: 1, link: 25 })\" title=\"practitioners of the art and science of signal, image and video processing\">Signal Processing</a></li>\\r\\n                <li class=\"-item\"><a href=\"https://emacs.stackexchange.com\" class=\"-link js-gps-track\" data-gps-track=\"footer.click({ location: 1, link: 25 })\" title=\"those using, extending or developing Emacs\">Emacs</a></li>\\r\\n                <li class=\"-item\"><a href=\"https://raspberrypi.stackexchange.com\" class=\"-link js-gps-track\" data-gps-track=\"footer.click({ location: 1, link: 25 })\" title=\"users and developers of hardware and software for Raspberry Pi\">Raspberry Pi</a></li>\\r\\n                <li class=\"-item\"><a href=\"https://ru.stackoverflow.com\" class=\"-link js-gps-track\" data-gps-track=\"footer.click({ location: 1, link: 25 })\" title=\"&#x43F;&#x440;&#x43E;&#x433;&#x440;&#x430;&#x43C;&#x43C;&#x438;&#x441;&#x442;&#x43E;&#x432;\">Stack Overflow &#x43D;&#x430; &#x440;&#x443;&#x441;&#x441;&#x43A;&#x43E;&#x43C;</a></li>\\r\\n                <li class=\"-item\"><a href=\"https://codegolf.stackexchange.com\" class=\"-link js-gps-track\" data-gps-track=\"footer.click({ location: 1, link: 25 })\" title=\"programming puzzle enthusiasts and code golfers\">Code Golf</a></li>\\r\\n                    </ul></div><div class=\"site-footer--col site-footer--category js-footer-col\" data-name=\"Technology\"><ul class=\"-list\">\\r\\n                <li class=\"-item\"><a href=\"https://es.stackoverflow.com\" class=\"-link js-gps-track\" data-gps-track=\"footer.click({ location: 1, link: 25 })\" title=\"programadores y profesionales de la inform&#xE1;tica\">Stack Overflow en espa&#xF1;ol</a></li>\\r\\n                <li class=\"-item\"><a href=\"https://ethereum.stackexchange.com\" class=\"-link js-gps-track\" data-gps-track=\"footer.click({ location: 1, link: 25 })\" title=\"users of Ethereum, the decentralized application platform and smart contract enabled blockchain\">Ethereum</a></li>\\r\\n                <li class=\"-item\"><a href=\"https://datascience.stackexchange.com\" class=\"-link js-gps-track\" data-gps-track=\"footer.click({ location: 1, link: 25 })\" title=\"Data science professionals, Machine Learning specialists, and those interested in learning more about the field\">Data Science</a></li>\\r\\n                <li class=\"-item\"><a href=\"https://arduino.stackexchange.com\" class=\"-link js-gps-track\" data-gps-track=\"footer.click({ location: 1, link: 25 })\" title=\"developers of open-source hardware and software that is compatible with Arduino\">Arduino</a></li>\\r\\n                <li class=\"-item\"><a href=\"https://bitcoin.stackexchange.com\" class=\"-link js-gps-track\" data-gps-track=\"footer.click({ location: 1, link: 25 })\" title=\"Bitcoin crypto-currency enthusiasts\">Bitcoin</a></li>\\r\\n                <li class=\"-item\"><a href=\"https://sqa.stackexchange.com\" class=\"-link js-gps-track\" data-gps-track=\"footer.click({ location: 1, link: 25 })\" title=\"software quality control experts, automation engineers, and software testers\">Software Quality Assurance &amp; Testing</a></li>\\r\\n                <li class=\"-item\"><a href=\"https://sound.stackexchange.com\" class=\"-link js-gps-track\" data-gps-track=\"footer.click({ location: 1, link: 25 })\" title=\"sound engineers, producers, editors, and enthusiasts\">Sound Design</a></li>\\r\\n                    </ul></div><div class=\"site-footer--col site-footer--category js-footer-col\" data-name=\"Technology\"><ul class=\"-list\">\\r\\n                <li class=\"-item\"><a href=\"https://windowsphone.stackexchange.com\" class=\"-link js-gps-track\" data-gps-track=\"footer.click({ location: 1, link: 25 })\" title=\"enthusiasts and power users of Windows Phone OS\">Windows Phone</a></li>\\r\\n                <li class=\"-item\">\\r\\n                    <a href=\"https://stackexchange.com/sites#technology\" class=\"-link js-gps-track\" data-gps-track=\"footer.click({ location: 1, link: 26 })\">\\r\\n                        <strong>\\r\\n                            more (28)\\r\\n                        </strong>\\r\\n                    </a>\\r\\n                </li>\\r\\n        </ul>\\r\\n    </div>\\r\\n    <div class=\"site-footer--col site-footer--category js-footer-col\" data-name=\"Life / Arts\">\\r\\n        <ul class=\"-list\">\\r\\n                <li class=\"-item\"><a href=\"https://photo.stackexchange.com\" class=\"-link js-gps-track\" data-gps-track=\"footer.click({ location: 1, link: 25 })\" title=\"professional, enthusiast and amateur photographers\">Photography</a></li>\\r\\n                <li class=\"-item\"><a href=\"https://scifi.stackexchange.com\" class=\"-link js-gps-track\" data-gps-track=\"footer.click({ location: 1, link: 25 })\" title=\"science fiction and fantasy enthusiasts\">Science Fiction &amp; Fantasy</a></li>\\r\\n                <li class=\"-item\"><a href=\"https://graphicdesign.stackexchange.com\" class=\"-link js-gps-track\" data-gps-track=\"footer.click({ location: 1, link: 25 })\" title=\"Graphic Design professionals, students, and enthusiasts\">Graphic Design</a></li>\\r\\n                <li class=\"-item\"><a href=\"https://movies.stackexchange.com\" class=\"-link js-gps-track\" data-gps-track=\"footer.click({ location: 1, link: 25 })\" title=\"movie and TV enthusiasts\">Movies &amp; TV</a></li>\\r\\n                <li class=\"-item\"><a href=\"https://music.stackexchange.com\" class=\"-link js-gps-track\" data-gps-track=\"footer.click({ location: 1, link: 25 })\" title=\"musicians, students, and enthusiasts\">Music: Practice &amp; Theory</a></li>\\r\\n                <li class=\"-item\"><a href=\"https://worldbuilding.stackexchange.com\" class=\"-link js-gps-track\" data-gps-track=\"footer.click({ location: 1, link: 25 })\" title=\"writers/artists using science, geography and culture to construct imaginary worlds and settings\">Worldbuilding</a></li>\\r\\n                <li class=\"-item\"><a href=\"https://video.stackexchange.com\" class=\"-link js-gps-track\" data-gps-track=\"footer.click({ location: 1, link: 25 })\" title=\"engineers, producers, editors, and enthusiasts spanning the fields of video, and media creation\">Video Production</a></li>\\r\\n                    </ul></div><div class=\"site-footer--col site-footer--category js-footer-col\" data-name=\"Life / Arts\"><ul class=\"-list\">\\r\\n                <li class=\"-item\"><a href=\"https://cooking.stackexchange.com\" class=\"-link js-gps-track\" data-gps-track=\"footer.click({ location: 1, link: 25 })\" title=\"professional and amateur chefs\">Seasoned Advice (cooking)</a></li>\\r\\n                <li class=\"-item\"><a href=\"https://diy.stackexchange.com\" class=\"-link js-gps-track\" data-gps-track=\"footer.click({ location: 1, link: 25 })\" title=\"contractors and serious DIYers\">Home Improvement</a></li>\\r\\n                <li class=\"-item\"><a href=\"https://money.stackexchange.com\" class=\"-link js-gps-track\" data-gps-track=\"footer.click({ location: 1, link: 25 })\" title=\"people who want to be financially literate\">Personal Finance &amp; Money</a></li>\\r\\n                <li class=\"-item\"><a href=\"https://academia.stackexchange.com\" class=\"-link js-gps-track\" data-gps-track=\"footer.click({ location: 1, link: 25 })\" title=\"academics and those enrolled in higher education\">Academia</a></li>\\r\\n                <li class=\"-item\"><a href=\"https://law.stackexchange.com\" class=\"-link js-gps-track\" data-gps-track=\"footer.click({ location: 1, link: 25 })\" title=\"legal professionals, students, and others with experience or interest in law\">Law</a></li>\\r\\n                <li class=\"-item\"><a href=\"https://fitness.stackexchange.com\" class=\"-link js-gps-track\" data-gps-track=\"footer.click({ location: 1, link: 25 })\" title=\"physical fitness professionals, athletes, trainers, and those providing health-related needs\">Physical Fitness</a></li>\\r\\n                <li class=\"-item\"><a href=\"https://gardening.stackexchange.com\" class=\"-link js-gps-track\" data-gps-track=\"footer.click({ location: 1, link: 25 })\" title=\"gardeners and landscapers\">Gardening &amp; Landscaping</a></li>\\r\\n                    </ul></div><div class=\"site-footer--col site-footer--category js-footer-col\" data-name=\"Life / Arts\"><ul class=\"-list\">\\r\\n                <li class=\"-item\"><a href=\"https://parenting.stackexchange.com\" class=\"-link js-gps-track\" data-gps-track=\"footer.click({ location: 1, link: 25 })\" title=\"parents, grandparents, nannies and others with a parenting role\">Parenting</a></li>\\r\\n                <li class=\"-item\">\\r\\n                    <a href=\"https://stackexchange.com/sites#lifearts\" class=\"-link js-gps-track\" data-gps-track=\"footer.click({ location: 1, link: 26 })\">\\r\\n                        <strong>\\r\\n                            more (10)\\r\\n                        </strong>\\r\\n                    </a>\\r\\n                </li>\\r\\n        </ul>\\r\\n    </div>\\r\\n    <div class=\"site-footer--col site-footer--category js-footer-col\" data-name=\"Culture / Recreation\">\\r\\n        <ul class=\"-list\">\\r\\n                <li class=\"-item\"><a href=\"https://english.stackexchange.com\" class=\"-link js-gps-track\" data-gps-track=\"footer.click({ location: 1, link: 25 })\" title=\"linguists, etymologists, and serious English language enthusiasts\">English Language &amp; Usage</a></li>\\r\\n                <li class=\"-item\"><a href=\"https://skeptics.stackexchange.com\" class=\"-link js-gps-track\" data-gps-track=\"footer.click({ location: 1, link: 25 })\" title=\"scientific skepticism\">Skeptics</a></li>\\r\\n                <li class=\"-item\"><a href=\"https://judaism.stackexchange.com\" class=\"-link js-gps-track\" data-gps-track=\"footer.click({ location: 1, link: 25 })\" title=\"those who base their lives on Jewish law and tradition and anyone interested in learning more\">Mi Yodeya (Judaism)</a></li>\\r\\n                <li class=\"-item\"><a href=\"https://travel.stackexchange.com\" class=\"-link js-gps-track\" data-gps-track=\"footer.click({ location: 1, link: 25 })\" title=\"road warriors and seasoned travelers\">Travel</a></li>\\r\\n                <li class=\"-item\"><a href=\"https://christianity.stackexchange.com\" class=\"-link js-gps-track\" data-gps-track=\"footer.click({ location: 1, link: 25 })\" title=\"committed Christians, experts in Christianity and those interested in learning more\">Christianity</a></li>\\r\\n                <li class=\"-item\"><a href=\"https://ell.stackexchange.com\" class=\"-link js-gps-track\" data-gps-track=\"footer.click({ location: 1, link: 25 })\" title=\"speakers of other languages learning English\">English Language Learners</a></li>\\r\\n                <li class=\"-item\"><a href=\"https://japanese.stackexchange.com\" class=\"-link js-gps-track\" data-gps-track=\"footer.click({ location: 1, link: 25 })\" title=\"students, teachers, and linguists wanting to discuss the finer points of the Japanese language\">Japanese Language</a></li>\\r\\n                    </ul></div><div class=\"site-footer--col site-footer--category js-footer-col\" data-name=\"Culture / Recreation\"><ul class=\"-list\">\\r\\n                <li class=\"-item\"><a href=\"https://chinese.stackexchange.com\" class=\"-link js-gps-track\" data-gps-track=\"footer.click({ location: 1, link: 25 })\" title=\"students, teachers, and linguists wanting to discuss the finer points of the Chinese language\">Chinese Language</a></li>\\r\\n                <li class=\"-item\"><a href=\"https://french.stackexchange.com\" class=\"-link js-gps-track\" data-gps-track=\"footer.click({ location: 1, link: 25 })\" title=\"students, teachers, and linguists wanting to discuss the finer points of the French language\">French Language</a></li>\\r\\n                <li class=\"-item\"><a href=\"https://german.stackexchange.com\" class=\"-link js-gps-track\" data-gps-track=\"footer.click({ location: 1, link: 25 })\" title=\"speakers of German wanting to discuss the finer points of the language and translation\">German Language</a></li>\\r\\n                <li class=\"-item\"><a href=\"https://hermeneutics.stackexchange.com\" class=\"-link js-gps-track\" data-gps-track=\"footer.click({ location: 1, link: 25 })\" title=\"professors, theologians, and those interested in exegetical analysis of biblical texts\">Biblical Hermeneutics</a></li>\\r\\n                <li class=\"-item\"><a href=\"https://history.stackexchange.com\" class=\"-link js-gps-track\" data-gps-track=\"footer.click({ location: 1, link: 25 })\" title=\"historians and history buffs\">History</a></li>\\r\\n                <li class=\"-item\"><a href=\"https://spanish.stackexchange.com\" class=\"-link js-gps-track\" data-gps-track=\"footer.click({ location: 1, link: 25 })\" title=\"linguists, teachers, students and Spanish language enthusiasts in general wanting to discuss the finer points of the language\">Spanish Language</a></li>\\r\\n                <li class=\"-item\"><a href=\"https://islam.stackexchange.com\" class=\"-link js-gps-track\" data-gps-track=\"footer.click({ location: 1, link: 25 })\" title=\"Muslims, experts in Islam, and those interested in learning more about Islam\">Islam</a></li>\\r\\n                    </ul></div><div class=\"site-footer--col site-footer--category js-footer-col\" data-name=\"Culture / Recreation\"><ul class=\"-list\">\\r\\n                <li class=\"-item\"><a href=\"https://rus.stackexchange.com\" class=\"-link js-gps-track\" data-gps-track=\"footer.click({ location: 1, link: 25 })\" title=\"&#x43B;&#x438;&#x43D;&#x433;&#x432;&#x438;&#x441;&#x442;&#x43E;&#x432; &#x438; &#x44D;&#x43D;&#x442;&#x443;&#x437;&#x438;&#x430;&#x441;&#x442;&#x43E;&#x432; &#x440;&#x443;&#x441;&#x441;&#x43A;&#x43E;&#x433;&#x43E; &#x44F;&#x437;&#x44B;&#x43A;&#x430;\">&#x420;&#x443;&#x441;&#x441;&#x43A;&#x438;&#x439; &#x44F;&#x437;&#x44B;&#x43A;</a></li>\\r\\n                <li class=\"-item\"><a href=\"https://russian.stackexchange.com\" class=\"-link js-gps-track\" data-gps-track=\"footer.click({ location: 1, link: 25 })\" title=\"students, teachers, and linguists wanting to discuss the finer points of the Russian language\">Russian Language</a></li>\\r\\n                <li class=\"-item\"><a href=\"https://gaming.stackexchange.com\" class=\"-link js-gps-track\" data-gps-track=\"footer.click({ location: 1, link: 25 })\" title=\"passionate videogamers on all platforms\">Arqade (gaming)</a></li>\\r\\n                <li class=\"-item\"><a href=\"https://bicycles.stackexchange.com\" class=\"-link js-gps-track\" data-gps-track=\"footer.click({ location: 1, link: 25 })\" title=\"people who build and repair bicycles, people who train cycling, or commute on bicycles\">Bicycles</a></li>\\r\\n                <li class=\"-item\"><a href=\"https://rpg.stackexchange.com\" class=\"-link js-gps-track\" data-gps-track=\"footer.click({ location: 1, link: 25 })\" title=\"gamemasters and players of tabletop, paper-and-pencil role-playing games\">Role-playing Games</a></li>\\r\\n                <li class=\"-item\"><a href=\"https://anime.stackexchange.com\" class=\"-link js-gps-track\" data-gps-track=\"footer.click({ location: 1, link: 25 })\" title=\"anime and manga fans\">Anime &amp; Manga</a></li>\\r\\n                <li class=\"-item\"><a href=\"https://puzzling.stackexchange.com\" class=\"-link js-gps-track\" data-gps-track=\"footer.click({ location: 1, link: 25 })\" title=\"those who create, solve, and study puzzles\">Puzzling</a></li>\\r\\n                    </ul></div><div class=\"site-footer--col site-footer--category js-footer-col\" data-name=\"Culture / Recreation\"><ul class=\"-list\">\\r\\n                <li class=\"-item\"><a href=\"https://mechanics.stackexchange.com\" class=\"-link js-gps-track\" data-gps-track=\"footer.click({ location: 1, link: 25 })\" title=\"mechanics and DIY enthusiast owners of cars, trucks, and motorcycles\">Motor Vehicle Maintenance &amp; Repair</a></li>\\r\\n                <li class=\"-item\"><a href=\"https://boardgames.stackexchange.com\" class=\"-link js-gps-track\" data-gps-track=\"footer.click({ location: 1, link: 25 })\" title=\"people who like playing board games, designing board games or modifying the rules of existing board games\">Board &amp; Card Games</a></li>\\r\\n                <li class=\"-item\"><a href=\"https://bricks.stackexchange.com\" class=\"-link js-gps-track\" data-gps-track=\"footer.click({ location: 1, link: 25 })\" title=\"LEGO&#xAE; and building block enthusiasts\">Bricks</a></li>\\r\\n                <li class=\"-item\"><a href=\"https://homebrew.stackexchange.com\" class=\"-link js-gps-track\" data-gps-track=\"footer.click({ location: 1, link: 25 })\" title=\"dedicated home brewers and serious enthusiasts\">Homebrewing</a></li>\\r\\n                <li class=\"-item\"><a href=\"https://martialarts.stackexchange.com\" class=\"-link js-gps-track\" data-gps-track=\"footer.click({ location: 1, link: 25 })\" title=\"students and teachers of all martial arts\">Martial Arts</a></li>\\r\\n                <li class=\"-item\"><a href=\"https://outdoors.stackexchange.com\" class=\"-link js-gps-track\" data-gps-track=\"footer.click({ location: 1, link: 25 })\" title=\"people who love being outdoors enjoying nature and wilderness, and learning about the required skills and equipment\">The Great Outdoors</a></li>\\r\\n                <li class=\"-item\"><a href=\"https://poker.stackexchange.com\" class=\"-link js-gps-track\" data-gps-track=\"footer.click({ location: 1, link: 25 })\" title=\"serious players and enthusiasts of poker\">Poker</a></li>\\r\\n                    </ul></div><div class=\"site-footer--col site-footer--category js-footer-col\" data-name=\"Culture / Recreation\"><ul class=\"-list\">\\r\\n                <li class=\"-item\"><a href=\"https://chess.stackexchange.com\" class=\"-link js-gps-track\" data-gps-track=\"footer.click({ location: 1, link: 25 })\" title=\"serious players and enthusiasts of chess\">Chess</a></li>\\r\\n                <li class=\"-item\"><a href=\"https://sports.stackexchange.com\" class=\"-link js-gps-track\" data-gps-track=\"footer.click({ location: 1, link: 25 })\" title=\"participants in team and individual sport activities\">Sports</a></li>\\r\\n                <li class=\"-item\">\\r\\n                    <a href=\"https://stackexchange.com/sites#culturerecreation\" class=\"-link js-gps-track\" data-gps-track=\"footer.click({ location: 1, link: 26 })\">\\r\\n                        <strong>\\r\\n                            more (16)\\r\\n                        </strong>\\r\\n                    </a>\\r\\n                </li>\\r\\n        </ul>\\r\\n    </div>\\r\\n    <div class=\"site-footer--col site-footer--category js-footer-col\" data-name=\"Science\">\\r\\n        <ul class=\"-list\">\\r\\n                <li class=\"-item\"><a href=\"https://mathoverflow.net\" class=\"-link js-gps-track\" data-gps-track=\"footer.click({ location: 1, link: 25 })\" title=\"professional mathematicians\">MathOverflow</a></li>\\r\\n                <li class=\"-item\"><a href=\"https://math.stackexchange.com\" class=\"-link js-gps-track\" data-gps-track=\"footer.click({ location: 1, link: 25 })\" title=\"people studying math at any level and professionals in related fields\">Mathematics</a></li>\\r\\n                <li class=\"-item\"><a href=\"https://stats.stackexchange.com\" class=\"-link js-gps-track\" data-gps-track=\"footer.click({ location: 1, link: 25 })\" title=\"people interested in statistics, machine learning, data analysis, data mining, and data visualization\">Cross Validated (stats)</a></li>\\r\\n                <li class=\"-item\"><a href=\"https://cstheory.stackexchange.com\" class=\"-link js-gps-track\" data-gps-track=\"footer.click({ location: 1, link: 25 })\" title=\"theoretical computer scientists and researchers in related fields\">Theoretical Computer Science</a></li>\\r\\n                <li class=\"-item\"><a href=\"https://physics.stackexchange.com\" class=\"-link js-gps-track\" data-gps-track=\"footer.click({ location: 1, link: 25 })\" title=\"active researchers, academics and students of physics\">Physics</a></li>\\r\\n                <li class=\"-item\"><a href=\"https://chemistry.stackexchange.com\" class=\"-link js-gps-track\" data-gps-track=\"footer.click({ location: 1, link: 25 })\" title=\"scientists, academics, teachers, and students in the field of chemistry\">Chemistry</a></li>\\r\\n                <li class=\"-item\"><a href=\"https://biology.stackexchange.com\" class=\"-link js-gps-track\" data-gps-track=\"footer.click({ location: 1, link: 25 })\" title=\"biology researchers, academics, and students\">Biology</a></li>\\r\\n                    </ul></div><div class=\"site-footer--col site-footer--category js-footer-col\" data-name=\"Science\"><ul class=\"-list\">\\r\\n                <li class=\"-item\"><a href=\"https://cs.stackexchange.com\" class=\"-link js-gps-track\" data-gps-track=\"footer.click({ location: 1, link: 25 })\" title=\"students, researchers and practitioners of computer science\">Computer Science</a></li>\\r\\n                <li class=\"-item\"><a href=\"https://philosophy.stackexchange.com\" class=\"-link js-gps-track\" data-gps-track=\"footer.click({ location: 1, link: 25 })\" title=\"those interested in the study of the fundamental nature of knowledge, reality, and existence\">Philosophy</a></li>\\r\\n                <li class=\"-item\"><a href=\"https://linguistics.stackexchange.com\" class=\"-link js-gps-track\" data-gps-track=\"footer.click({ location: 1, link: 25 })\" title=\"professional linguists and others with an interest in linguistic research and theory\">Linguistics</a></li>\\r\\n                <li class=\"-item\"><a href=\"https://psychology.stackexchange.com\" class=\"-link js-gps-track\" data-gps-track=\"footer.click({ location: 1, link: 25 })\" title=\"practitioners, researchers, and students in cognitive science, psychology, neuroscience, and psychiatry\">Psychology &amp; Neuroscience</a></li>\\r\\n                <li class=\"-item\"><a href=\"https://scicomp.stackexchange.com\" class=\"-link js-gps-track\" data-gps-track=\"footer.click({ location: 1, link: 25 })\" title=\"scientists using computers to solve scientific problems\">Computational Science</a></li>\\r\\n                <li class=\"-item\">\\r\\n                    <a href=\"https://stackexchange.com/sites#science\" class=\"-link js-gps-track\" data-gps-track=\"footer.click({ location: 1, link: 26 })\">\\r\\n                        <strong>\\r\\n                            more (10)\\r\\n                        </strong>\\r\\n                    </a>\\r\\n                </li>\\r\\n        </ul>\\r\\n    </div>\\r\\n    <div class=\"site-footer--col site-footer--category js-footer-col\" data-name=\"Other\">\\r\\n        <ul class=\"-list\">\\r\\n                <li class=\"-item\"><a href=\"https://meta.stackexchange.com\" class=\"-link js-gps-track\" data-gps-track=\"footer.click({ location: 1, link: 25 })\" title=\"meta-discussion of the Stack Exchange family of Q&amp;A websites\">Meta Stack Exchange</a></li>\\r\\n                <li class=\"-item\"><a href=\"https://stackapps.com\" class=\"-link js-gps-track\" data-gps-track=\"footer.click({ location: 1, link: 25 })\" title=\"apps, scripts, and development with the Stack Exchange API\">Stack Apps</a></li>\\r\\n                <li class=\"-item\"><a href=\"https://api.stackexchange.com\" class=\"-link js-gps-track\" data-gps-track=\"footer.click({ location: 1, link: 25 })\" title=\"programmatic interaction with Stack Exchange sites\">API</a></li>\\r\\n                <li class=\"-item\"><a href=\"https://data.stackexchange.com\" class=\"-link js-gps-track\" data-gps-track=\"footer.click({ location: 1, link: 25 })\" title=\"querying Stack Exchange data using SQL\">Data</a></li>\\r\\n        </ul>\\r\\n    </div>\\r\\n\\r\\n                </div>\\r\\n            </nav>\\r\\n            <div class=\"site-footer--copyright fs-fine\">\\r\\n                <ul class=\"-list\">\\r\\n                    <li class=\"-item\"><a class=\"js-gps-track -link\" data-gps-track=\"footer.click({ location: 3, link:4 })\" href=\"https://stackoverflow.blog?blb=1\">Blog</a></li>\\r\\n                    <li class=\"-item\"><a href=\"https://www.facebook.com/officialstackoverflow/\" class=\"-link js-gps-track\" data-gps-track=\"footer.click({ location: 3, link: 31 })\">Facebook</a></li>\\r\\n                    <li class=\"-item\"><a href=\"https://twitter.com/stackoverflow\" class=\"-link js-gps-track\" data-gps-track=\"footer.click({ location: 3, link: 32 })\">Twitter</a></li>\\r\\n                    <li class=\"-item\"><a href=\"https://linkedin.com/company/stack-overflow\" class=\"-link js-gps-track\" data-gps-track=\"footer.click({ location: 3, link: 33 })\">LinkedIn</a></li>\\r\\n                    <li class=\"-item\"><a href=\"https://www.instagram.com/thestackoverflow\" class=\"-link js-gps-track\" data-gps-track=\"footer.click({ location: 3, link: 36 })\">Instagram</a></li>\\r\\n                </ul>\\r\\n\\r\\n                <p class=\"mt-auto mb24\">\\r\\nsite design / logo &#169; 2021 Stack Exchange Inc; user contributions licensed under <a href=\"https://stackoverflow.com/help/licensing\">cc by-sa</a>.                    <span id=\"svnrev\">rev&nbsp;2021.3.22.38863</span>\\r\\n                </p>\\r\\n            </div>\\r\\n        </div>\\r\\n\\r\\n    </footer>\\r\\n\\r\\n            <script>StackExchange.ready(function () { StackExchange.responsiveness.addSwitcher(); })</script>\\r\\n    <noscript>\\r\\n        <div id=\"noscript-warning\">Stack Overflow works best with JavaScript enabled\\r\\n            <img src=\"https://pixel.quantserve.com/pixel/p-c1rF4kxgLUzNc.gif\" alt=\"\" class=\"dno\">\\r\\n        </div>\\r\\n    </noscript>\\r\\n\\r\\n            <script>\\r\\n(function(i, s, o, g, r, a, m) {\\r\\n                i[\\'GoogleAnalyticsObject\\'] = r; i[r] = i[r] || function() { (i[r].q = i[r].q || []).push(arguments) }, i[r].l = 1 * new Date(); a = s.createElement(o),\\r\\n                m = s.getElementsByTagName(o)[0]; a.async = 1; a.src = g; m.parentNode.insertBefore(a, m);\\r\\n            })(window, document, \\'script\\', \\'https://www.google-analytics.com/analytics.js\\', \\'ga\\');\\r\\n\\r\\n            StackExchange.ready(function () {\\r\\n\\r\\n                StackExchange.ga.init({\\r\\n                    autoLink: [\"stackoverflow.blog\",\"info.stackoverflowsolutions.com\",\"stackoverflowsolutions.com\"],\\r\\n                    sendTitles: true,\\r\\n                    tracker: window.ga,\\r\\n                    trackingCodes: [\\r\\n                        \\'UA-108242619-1\\'\\r\\n                    ],\\r\\n                        checkDimension: \\'dimension42\\'\\r\\n                });\\r\\n\\r\\n\\r\\n\\r\\n\\r\\n\\r\\n                    StackExchange.ga.setDimension(\\'dimension3\\', \\'Home/HandleUnknownAction\\');\\r\\n\\r\\n\\r\\n                StackExchange.ga.trackPageView();\\r\\n            });\\r\\n            \\r\\n            var _qevents = _qevents || [],\\r\\n            _comscore = _comscore || [];\\r\\n            (function() {\\r\\n                var s = document.getElementsByTagName(\\'script\\')[0],\\r\\n                    qc = document.createElement(\\'script\\');\\r\\n qc.async = true;\\r\\n                    qc.src = \\'https://secure.quantserve.com/quant.js\\';\\r\\n                    s.parentNode.insertBefore(qc, s);\\r\\n                    _qevents.push({ qacct: \"p-c1rF4kxgLUzNc\" }); var sc = document.createElement(\\'script\\');\\r\\n                    sc.async = true;\\r\\n                    sc.src = \\'https://sb.scorecardresearch.com/beacon.js\\';\\r\\n                    s.parentNode.insertBefore(sc, s);\\r\\n                    _comscore.push({ c1: \"2\", c2: \"17440561\" });            })();\\r\\n                </script>\\r\\n\\r\\n        \\r\\n    <style>#consent-footer-link { display: none; visibility: hidden; }</style>\\r\\n\\r\\n    \\r\\n    </body>\\r\\n    </html>\\r\\n'"
      ]
     },
     "execution_count": 7,
     "metadata": {},
     "output_type": "execute_result"
    }
   ],
   "source": [
    "r = requests.get(url)\n",
    "\n",
    "html_str = r.text\n",
    "\n",
    "html_str"
   ]
  },
  {
   "cell_type": "code",
   "execution_count": 6,
   "metadata": {
    "pycharm": {
     "name": "#%%\n"
    }
   },
   "outputs": [
    {
     "ename": "NameError",
     "evalue": "name 'HTML' is not defined",
     "output_type": "error",
     "traceback": [
      "\u001b[1;31m---------------------------------------------------------------------------\u001b[0m",
      "\u001b[1;31mNameError\u001b[0m                                 Traceback (most recent call last)",
      "\u001b[1;32m<ipython-input-6-bcc6419c8771>\u001b[0m in \u001b[0;36m<module>\u001b[1;34m\u001b[0m\n\u001b[1;32m----> 1\u001b[1;33m \u001b[0mhtml\u001b[0m \u001b[1;33m=\u001b[0m \u001b[0mHTML\u001b[0m\u001b[1;33m(\u001b[0m\u001b[0mhtml\u001b[0m\u001b[1;33m=\u001b[0m\u001b[0mhtml_str\u001b[0m\u001b[1;33m)\u001b[0m\u001b[1;33m\u001b[0m\u001b[1;33m\u001b[0m\u001b[0m\n\u001b[0m",
      "\u001b[1;31mNameError\u001b[0m: name 'HTML' is not defined"
     ]
    }
   ],
   "source": [
    "html = HTML(html=html_str)"
   ]
  },
  {
   "cell_type": "code",
   "execution_count": 34,
   "metadata": {
    "pycharm": {
     "name": "#%%\n"
    }
   },
   "outputs": [
    {
     "ename": "NameError",
     "evalue": "name 'html' is not defined",
     "output_type": "error",
     "traceback": [
      "\u001b[1;31m---------------------------------------------------------------------------\u001b[0m",
      "\u001b[1;31mNameError\u001b[0m                                 Traceback (most recent call last)",
      "\u001b[1;32m<ipython-input-34-e4df53e0f382>\u001b[0m in \u001b[0;36m<module>\u001b[1;34m\u001b[0m\n\u001b[1;32m----> 1\u001b[1;33m \u001b[0mquestion_summaries\u001b[0m \u001b[1;33m=\u001b[0m \u001b[0mhtml\u001b[0m\u001b[1;33m.\u001b[0m\u001b[0mfind\u001b[0m\u001b[1;33m(\u001b[0m\u001b[1;34m\".question-summary\"\u001b[0m\u001b[1;33m)\u001b[0m\u001b[1;33m\u001b[0m\u001b[1;33m\u001b[0m\u001b[0m\n\u001b[0m\u001b[0;32m      2\u001b[0m \u001b[0mprint\u001b[0m\u001b[1;33m(\u001b[0m\u001b[0mquestion_summaries\u001b[0m\u001b[1;33m)\u001b[0m\u001b[1;33m\u001b[0m\u001b[1;33m\u001b[0m\u001b[0m\n",
      "\u001b[1;31mNameError\u001b[0m: name 'html' is not defined"
     ]
    }
   ],
   "source": [
    "question_summaries = html.find(\".question-summary\")\n",
    "print(question_summaries)"
   ]
  },
  {
   "cell_type": "code",
   "execution_count": 10,
   "metadata": {
    "pycharm": {
     "name": "#%%\n"
    }
   },
   "outputs": [
    {
     "ename": "NameError",
     "evalue": "name 'question_summaries' is not defined",
     "output_type": "error",
     "traceback": [
      "\u001b[1;31m---------------------------------------------------------------------------\u001b[0m",
      "\u001b[1;31mNameError\u001b[0m                                 Traceback (most recent call last)",
      "\u001b[1;32m<ipython-input-10-dcb5fce14b8b>\u001b[0m in \u001b[0;36m<module>\u001b[1;34m\u001b[0m\n\u001b[1;32m----> 1\u001b[1;33m \u001b[0mprint\u001b[0m\u001b[1;33m(\u001b[0m\u001b[0mquestion_summaries\u001b[0m\u001b[1;33m[\u001b[0m\u001b[1;36m0\u001b[0m\u001b[1;33m]\u001b[0m\u001b[1;33m.\u001b[0m\u001b[0mtext\u001b[0m\u001b[1;33m)\u001b[0m\u001b[1;33m\u001b[0m\u001b[1;33m\u001b[0m\u001b[0m\n\u001b[0m",
      "\u001b[1;31mNameError\u001b[0m: name 'question_summaries' is not defined"
     ]
    }
   ],
   "source": [
    "print(question_summaries[0].text)"
   ]
  },
  {
   "cell_type": "code",
   "execution_count": 11,
   "metadata": {
    "pycharm": {
     "name": "#%%\n"
    }
   },
   "outputs": [],
   "source": [
    "columns  = ['votes', 'vote_title', 'num_answers', 'views', 'question', 'short_desc', 'tags', 'date', 'user', 'user_details'] # specified by coder"
   ]
  },
  {
   "cell_type": "code",
   "execution_count": 12,
   "metadata": {
    "pycharm": {
     "name": "#%%\n"
    }
   },
   "outputs": [
    {
     "ename": "NameError",
     "evalue": "name 'question_summaries' is not defined",
     "output_type": "error",
     "traceback": [
      "\u001b[1;31m---------------------------------------------------------------------------\u001b[0m",
      "\u001b[1;31mNameError\u001b[0m                                 Traceback (most recent call last)",
      "\u001b[1;32m<ipython-input-12-2bd585019d15>\u001b[0m in \u001b[0;36m<module>\u001b[1;34m\u001b[0m\n\u001b[1;32m----> 1\u001b[1;33m \u001b[0mthis_row\u001b[0m \u001b[1;33m=\u001b[0m \u001b[0mlist\u001b[0m\u001b[1;33m(\u001b[0m\u001b[0mquestion_summaries\u001b[0m\u001b[1;33m[\u001b[0m\u001b[1;36m0\u001b[0m\u001b[1;33m]\u001b[0m\u001b[1;33m.\u001b[0m\u001b[0mtext\u001b[0m\u001b[1;33m.\u001b[0m\u001b[0msplit\u001b[0m\u001b[1;33m(\u001b[0m\u001b[1;34m'\\n'\u001b[0m\u001b[1;33m)\u001b[0m\u001b[1;33m)\u001b[0m\u001b[1;33m\u001b[0m\u001b[1;33m\u001b[0m\u001b[0m\n\u001b[0m\u001b[0;32m      2\u001b[0m \u001b[0mthis_row\u001b[0m\u001b[1;33m\u001b[0m\u001b[1;33m\u001b[0m\u001b[0m\n",
      "\u001b[1;31mNameError\u001b[0m: name 'question_summaries' is not defined"
     ]
    }
   ],
   "source": [
    "this_row = list(question_summaries[0].text.split('\\n'))\n",
    "this_row"
   ]
  },
  {
   "cell_type": "code",
   "execution_count": 13,
   "metadata": {
    "pycharm": {
     "name": "#%%\n"
    }
   },
   "outputs": [
    {
     "ename": "NameError",
     "evalue": "name 'this_row' is not defined",
     "output_type": "error",
     "traceback": [
      "\u001b[1;31m---------------------------------------------------------------------------\u001b[0m",
      "\u001b[1;31mNameError\u001b[0m                                 Traceback (most recent call last)",
      "\u001b[1;32m<ipython-input-13-5349a384f2f9>\u001b[0m in \u001b[0;36m<module>\u001b[1;34m\u001b[0m\n\u001b[1;32m----> 1\u001b[1;33m \u001b[0mlen\u001b[0m\u001b[1;33m(\u001b[0m\u001b[0mthis_row\u001b[0m\u001b[1;33m)\u001b[0m \u001b[1;33m==\u001b[0m \u001b[0mlen\u001b[0m\u001b[1;33m(\u001b[0m\u001b[0mcolumns\u001b[0m\u001b[1;33m)\u001b[0m\u001b[1;33m\u001b[0m\u001b[1;33m\u001b[0m\u001b[0m\n\u001b[0m",
      "\u001b[1;31mNameError\u001b[0m: name 'this_row' is not defined"
     ]
    }
   ],
   "source": [
    "len(this_row) == len(columns)"
   ]
  },
  {
   "cell_type": "code",
   "execution_count": 14,
   "metadata": {
    "pycharm": {
     "name": "#%%\n"
    }
   },
   "outputs": [
    {
     "ename": "SyntaxError",
     "evalue": "invalid syntax (<ipython-input-14-a2ca96d1727a>, line 1)",
     "output_type": "error",
     "traceback": [
      "\u001b[1;36m  File \u001b[1;32m\"<ipython-input-14-a2ca96d1727a>\"\u001b[1;36m, line \u001b[1;32m1\u001b[0m\n\u001b[1;33m    row_data dict(zip(columns, this_row))\u001b[0m\n\u001b[1;37m                ^\u001b[0m\n\u001b[1;31mSyntaxError\u001b[0m\u001b[1;31m:\u001b[0m invalid syntax\n"
     ]
    }
   ],
   "source": [
    "row_data = dict(zip(columns, this_row))"
   ]
  },
  {
   "cell_type": "code",
   "execution_count": 16,
   "metadata": {
    "pycharm": {
     "name": "#%%\n"
    }
   },
   "outputs": [
    {
     "ename": "SyntaxError",
     "evalue": "invalid syntax (<ipython-input-16-6618f447ef00>, line 2)",
     "output_type": "error",
     "traceback": [
      "\u001b[1;36m  File \u001b[1;32m\"<ipython-input-16-6618f447ef00>\"\u001b[1;36m, line \u001b[1;32m2\u001b[0m\n\u001b[1;33m    for column, row_v in zip(columns, this_row)\u001b[0m\n\u001b[1;37m                                               ^\u001b[0m\n\u001b[1;31mSyntaxError\u001b[0m\u001b[1;31m:\u001b[0m invalid syntax\n"
     ]
    }
   ],
   "source": [
    "# another way\n",
    "for column, row_v in zip(columns, this_row)\n",
    "    print(column, row_v)"
   ]
  },
  {
   "cell_type": "code",
   "execution_count": 19,
   "metadata": {
    "pycharm": {
     "name": "#%%\n"
    }
   },
   "outputs": [
    {
     "ename": "NameError",
     "evalue": "name 'question_summaries' is not defined",
     "output_type": "error",
     "traceback": [
      "\u001b[1;31m---------------------------------------------------------------------------\u001b[0m",
      "\u001b[1;31mNameError\u001b[0m                                 Traceback (most recent call last)",
      "\u001b[1;32m<ipython-input-19-d80ec6c8cb82>\u001b[0m in \u001b[0;36m<module>\u001b[1;34m\u001b[0m\n\u001b[0;32m      1\u001b[0m \u001b[0mkey_names\u001b[0m \u001b[1;33m=\u001b[0m \u001b[1;33m[\u001b[0m\u001b[1;34m'question'\u001b[0m\u001b[1;33m,\u001b[0m \u001b[1;34m'votes'\u001b[0m\u001b[1;33m]\u001b[0m\u001b[1;33m\u001b[0m\u001b[1;33m\u001b[0m\u001b[0m\n\u001b[0;32m      2\u001b[0m \u001b[0mclasses_needed\u001b[0m \u001b[1;33m=\u001b[0m \u001b[1;33m[\u001b[0m\u001b[1;34m'.question-hyperlink'\u001b[0m\u001b[1;33m,\u001b[0m \u001b[1;34m'.vote'\u001b[0m\u001b[1;33m]\u001b[0m\u001b[1;33m\u001b[0m\u001b[1;33m\u001b[0m\u001b[0m\n\u001b[1;32m----> 3\u001b[1;33m \u001b[0mthis_question_element\u001b[0m \u001b[1;33m=\u001b[0m \u001b[0mquestion_summaries\u001b[0m\u001b[1;33m[\u001b[0m\u001b[1;36m0\u001b[0m\u001b[1;33m]\u001b[0m\u001b[1;33m\u001b[0m\u001b[1;33m\u001b[0m\u001b[0m\n\u001b[0m\u001b[0;32m      4\u001b[0m \u001b[0mthis_question_element\u001b[0m\u001b[1;33m.\u001b[0m\u001b[0mfind\u001b[0m\u001b[1;33m(\u001b[0m\u001b[1;34m'.question-hyperlink'\u001b[0m\u001b[1;33m,\u001b[0m \u001b[0mfirst\u001b[0m\u001b[1;33m=\u001b[0m\u001b[1;32mTrue\u001b[0m\u001b[1;33m)\u001b[0m\u001b[1;33m.\u001b[0m\u001b[0mtext\u001b[0m\u001b[1;33m\u001b[0m\u001b[1;33m\u001b[0m\u001b[0m\n\u001b[0;32m      5\u001b[0m \u001b[0mthis_question_element\u001b[0m\u001b[1;33m.\u001b[0m\u001b[0mfind\u001b[0m\u001b[1;33m(\u001b[0m\u001b[1;34m'.vote'\u001b[0m\u001b[1;33m,\u001b[0m \u001b[0mfirst\u001b[0m\u001b[1;33m=\u001b[0m\u001b[1;32mTrue\u001b[0m\u001b[1;33m)\u001b[0m\u001b[1;33m.\u001b[0m\u001b[0mtext\u001b[0m\u001b[1;33m.\u001b[0m\u001b[0mreplace\u001b[0m\u001b[1;33m(\u001b[0m\u001b[1;34m'\\nvotes'\u001b[0m\u001b[1;33m,\u001b[0m \u001b[1;34m''\u001b[0m\u001b[1;33m)\u001b[0m\u001b[1;33m\u001b[0m\u001b[1;33m\u001b[0m\u001b[0m\n",
      "\u001b[1;31mNameError\u001b[0m: name 'question_summaries' is not defined"
     ]
    }
   ],
   "source": [
    "key_names = ['question', 'votes', 'tags']\n",
    "classes_needed = ['.question-hyperlink', '.vote', '.tags']\n",
    "this_question_element = question_summaries[0]\n",
    "this_question_element.find('.question-hyperlink', first=True).text\n",
    "this_question_element.find('.vote', first=True).text.replace('\\nvotes', '')"
   ]
  },
  {
   "cell_type": "code",
   "execution_count": 20,
   "metadata": {
    "pycharm": {
     "name": "#%%\n"
    }
   },
   "outputs": [],
   "source": [
    "def clean_scraped_data(text, keyname=None):\n",
    "    if keyname == 'votes':\n",
    "        return text.replace('\\nvotes')\n",
    "    return text"
   ]
  },
  {
   "cell_type": "code",
   "execution_count": 21,
   "metadata": {
    "pycharm": {
     "name": "#%%\n"
    }
   },
   "outputs": [
    {
     "ename": "NameError",
     "evalue": "name 'question_summaries' is not defined",
     "output_type": "error",
     "traceback": [
      "\u001b[1;31m---------------------------------------------------------------------------\u001b[0m",
      "\u001b[1;31mNameError\u001b[0m                                 Traceback (most recent call last)",
      "\u001b[1;32m<ipython-input-21-9db1bab2b9d9>\u001b[0m in \u001b[0;36m<module>\u001b[1;34m\u001b[0m\n\u001b[0;32m      1\u001b[0m \u001b[0mdatas\u001b[0m \u001b[1;33m=\u001b[0m \u001b[1;33m[\u001b[0m\u001b[1;33m]\u001b[0m\u001b[1;33m\u001b[0m\u001b[1;33m\u001b[0m\u001b[0m\n\u001b[0;32m      2\u001b[0m \u001b[1;33m\u001b[0m\u001b[0m\n\u001b[1;32m----> 3\u001b[1;33m \u001b[1;32mfor\u001b[0m \u001b[0mq_el\u001b[0m \u001b[1;32min\u001b[0m \u001b[0mquestion_summaries\u001b[0m\u001b[1;33m:\u001b[0m\u001b[1;33m\u001b[0m\u001b[1;33m\u001b[0m\u001b[0m\n\u001b[0m\u001b[0;32m      4\u001b[0m     \u001b[1;32mfor\u001b[0m \u001b[0mi\u001b[0m\u001b[1;33m,\u001b[0m \u001b[0m_class\u001b[0m \u001b[1;32min\u001b[0m \u001b[0menumerate\u001b[0m\u001b[1;33m(\u001b[0m\u001b[0mclasses_needed\u001b[0m\u001b[1;33m)\u001b[0m\u001b[1;33m:\u001b[0m\u001b[1;33m\u001b[0m\u001b[1;33m\u001b[0m\u001b[0m\n\u001b[0;32m      5\u001b[0m         \u001b[0mquestion_data\u001b[0m \u001b[1;33m=\u001b[0m \u001b[1;33m{\u001b[0m\u001b[1;33m}\u001b[0m\u001b[1;33m\u001b[0m\u001b[1;33m\u001b[0m\u001b[0m\n",
      "\u001b[1;31mNameError\u001b[0m: name 'question_summaries' is not defined"
     ]
    }
   ],
   "source": [
    "datas = []\n",
    "\n",
    "for q_el in question_summaries:\n",
    "    for i, _class in enumerate(classes_needed):\n",
    "        question_data = {}\n",
    "        sub_el = q_el.find(_class, first=True)\n",
    "        keynames = key_names[i]\n",
    "        question_data[keynames] = clean_scraped_data(sub_el)\n",
    "    datas.append(question_data)"
   ]
  },
  {
   "cell_type": "code",
   "execution_count": 23,
   "metadata": {
    "pycharm": {
     "name": "#%%\n"
    }
   },
   "outputs": [],
   "source": [
    "def parse_tagged_page(html):\n",
    "    question_summaries = html.find(\".question-summary\")\n",
    "    key_names = ['question', 'votes', 'tags']\n",
    "    classes_needed = ['.question-hyperlink', '.vote', '.tags']\n",
    "    datas = []\n",
    "\n",
    "    for q_el in question_summaries:\n",
    "        for i, _class in enumerate(classes_needed):\n",
    "            question_data = {}\n",
    "            sub_el = q_el.find(_class, first=True)\n",
    "            keynames = key_names[i]\n",
    "            question_data[keynames] = clean_scraped_data(sub_el)\n",
    "        datas.append(question_data)\n",
    "\n",
    "    return datas"
   ]
  },
  {
   "cell_type": "code",
   "execution_count": 24,
   "metadata": {
    "pycharm": {
     "name": "#%%\n"
    }
   },
   "outputs": [],
   "source": [
    "def extract_data_from_url(url):\n",
    "    r = requests.get(url)\n",
    "    if r.status_code not in range(200, 299):\n",
    "        return[]\n",
    "    html_str = r.text\n",
    "    html = HTML(html=html_str)\n",
    "    datas = parse_tagged_page(html)\n",
    "    return datas"
   ]
  },
  {
   "cell_type": "code",
   "execution_count": 25,
   "metadata": {
    "pycharm": {
     "name": "#%%\n"
    }
   },
   "outputs": [
    {
     "ename": "SyntaxError",
     "evalue": "invalid syntax (<ipython-input-25-0d55e17d27d1>, line 2)",
     "output_type": "error",
     "traceback": [
      "\u001b[1;36m  File \u001b[1;32m\"<ipython-input-25-0d55e17d27d1>\"\u001b[1;36m, line \u001b[1;32m2\u001b[0m\n\u001b[1;33m    base_url =\u001b[0m\n\u001b[1;37m              ^\u001b[0m\n\u001b[1;31mSyntaxError\u001b[0m\u001b[1;31m:\u001b[0m invalid syntax\n"
     ]
    }
   ],
   "source": [
    "def scrape_tag(tag = 'python', query_filter=\"Votes\", max_pages=50, pagesize=25):\n",
    "    base_url =  'https://stackoverflow.com/questions/tagged'\n",
    "    datas = []\n",
    "    for p in range(max_pages):\n",
    "        page_num = p + 1\n",
    "        url = f'{base_url}{tag}?tab={query_filter}&page={page_num}&pagesize={pagesize}'\n",
    "        datas += extract_data_from_url(url)\n",
    "        time.sleep(1.2)\n",
    "    return datas"
   ]
  },
  {
   "cell_type": "code",
   "execution_count": 26,
   "metadata": {
    "pycharm": {
     "name": "#%%\n"
    }
   },
   "outputs": [
    {
     "ename": "NameError",
     "evalue": "name 'scrape_tag' is not defined",
     "output_type": "error",
     "traceback": [
      "\u001b[1;31m---------------------------------------------------------------------------\u001b[0m",
      "\u001b[1;31mNameError\u001b[0m                                 Traceback (most recent call last)",
      "\u001b[1;32m<ipython-input-26-31a34382236a>\u001b[0m in \u001b[0;36m<module>\u001b[1;34m\u001b[0m\n\u001b[1;32m----> 1\u001b[1;33m \u001b[0mdatas\u001b[0m \u001b[1;33m=\u001b[0m \u001b[0mscrape_tag\u001b[0m\u001b[1;33m(\u001b[0m\u001b[0mtag\u001b[0m\u001b[1;33m=\u001b[0m\u001b[1;34m'python'\u001b[0m\u001b[1;33m)\u001b[0m\u001b[1;33m\u001b[0m\u001b[1;33m\u001b[0m\u001b[0m\n\u001b[0m",
      "\u001b[1;31mNameError\u001b[0m: name 'scrape_tag' is not defined"
     ]
    }
   ],
   "source": [
    "datas = scrape_tag(tag='python')"
   ]
  },
  {
   "cell_type": "code",
   "execution_count": 27,
   "metadata": {
    "pycharm": {
     "name": "#%%\n"
    }
   },
   "outputs": [
    {
     "ename": "NameError",
     "evalue": "name 'pd' is not defined",
     "output_type": "error",
     "traceback": [
      "\u001b[1;31m---------------------------------------------------------------------------\u001b[0m",
      "\u001b[1;31mNameError\u001b[0m                                 Traceback (most recent call last)",
      "\u001b[1;32m<ipython-input-27-a3178495bf18>\u001b[0m in \u001b[0;36m<module>\u001b[1;34m\u001b[0m\n\u001b[1;32m----> 1\u001b[1;33m \u001b[0mdf\u001b[0m \u001b[1;33m=\u001b[0m \u001b[0mpd\u001b[0m\u001b[1;33m.\u001b[0m\u001b[0mDataFrame\u001b[0m\u001b[1;33m(\u001b[0m\u001b[0mdatas\u001b[0m\u001b[1;33m)\u001b[0m\u001b[1;33m\u001b[0m\u001b[1;33m\u001b[0m\u001b[0m\n\u001b[0m\u001b[0;32m      2\u001b[0m \u001b[0mdf\u001b[0m\u001b[1;33m.\u001b[0m\u001b[0mhead\u001b[0m\u001b[1;33m(\u001b[0m\u001b[1;33m)\u001b[0m\u001b[1;33m\u001b[0m\u001b[1;33m\u001b[0m\u001b[0m\n",
      "\u001b[1;31mNameError\u001b[0m: name 'pd' is not defined"
     ]
    }
   ],
   "source": [
    "df = pd.DataFrame(datas)\n",
    "df.head()"
   ]
  },
  {
   "cell_type": "code",
   "execution_count": null,
   "metadata": {
    "pycharm": {
     "name": "#%%\n"
    }
   },
   "outputs": [],
   "source": [
    "df.to_csv('python_tag.csv', index=False)"
   ]
  }
 ],
 "metadata": {
  "kernelspec": {
   "display_name": "Python 3",
   "language": "python",
   "name": "python3"
  },
  "language_info": {
   "codemirror_mode": {
    "name": "ipython",
    "version": 3
   },
   "file_extension": ".py",
   "mimetype": "text/x-python",
   "name": "python",
   "nbconvert_exporter": "python",
   "pygments_lexer": "ipython3",
   "version": "3.7.9"
  }
 },
 "nbformat": 4,
 "nbformat_minor": 1
}
